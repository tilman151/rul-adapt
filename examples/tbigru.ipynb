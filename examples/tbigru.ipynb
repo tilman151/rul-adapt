{
 "cells": [
  {
   "cell_type": "markdown",
   "metadata": {},
   "source": [
    "# TBiGRU"
   ]
  },
  {
   "cell_type": "code",
   "execution_count": 1,
   "metadata": {},
   "outputs": [],
   "source": [
    "import matplotlib.pyplot as plt\n",
    "import numpy as np\n",
    "import omegaconf\n",
    "import pytorch_lightning as pl\n",
    "import pywt\n",
    "import rul_datasets\n",
    "\n",
    "import rul_adapt"
   ]
  },
  {
   "cell_type": "markdown",
   "metadata": {},
   "source": [
    "# Training preparations\n",
    "\n",
    "Before training, the TBiGRU approach has a feature mining stage and a bearing running state stage that need to be completed.\n",
    "The running state detection is used to determine the first-time-to-predict (FTTP) which is needed to appropriately generate the RUL targets.\n",
    "The RUL Adapt library implements both stages but adds their results to the training configurations for easier an easier replication process (see *Reproduce original configurations* below).\n",
    "\n",
    "### Feature selection\n",
    "\n",
    "To run the feature selection stage, create a source and target domain reader and feed them to the `select_features` function.\n",
    "For each input feature the function extracts 30 different features and returns the indices of the top transferable features.\n",
    "We select the appropriate runs as training splits and receive the 30 most transferable features out of 60."
   ]
  },
  {
   "cell_type": "code",
   "execution_count": 2,
   "metadata": {},
   "outputs": [
    {
     "name": "stdout",
     "output_type": "stream",
     "text": [
      "[0, 1, 4, 5, 6, 7, 8, 9, 10, 11, 12, 13, 16, 17, 20, 21, 22, 23, 32, 34, 42, 44, 48, 50, 52, 54, 56, 57, 58, 59]\n"
     ]
    }
   ],
   "source": [
    "source = rul_datasets.FemtoReader(fd=1, run_split_dist={\"dev\": [1, 7]})\n",
    "target = rul_datasets.FemtoReader(fd=2, percent_broken=0.8,\n",
    "                                  run_split_dist={\"dev\": [1, 2]})\n",
    "\n",
    "feature_idx = rul_adapt.approach.select_features(source, target, num_features=30)\n",
    "print(sorted(feature_idx))"
   ]
  },
  {
   "cell_type": "markdown",
   "metadata": {},
   "source": [
    "These feature indices can be used for constructing a domain adaption data module with transferable features."
   ]
  },
  {
   "cell_type": "code",
   "execution_count": 3,
   "metadata": {},
   "outputs": [],
   "source": [
    "extractor = rul_adapt.approach.VibrationFeatureExtractor(num_input_features=2,\n",
    "                                                         feature_idx=feature_idx)\n",
    "extractor.fit(\n",
    "    source.load_split(\"dev\")[0] + target.load_split(\"dev\")[0])  # fit internal scaler\n",
    "\n",
    "dm = rul_datasets.DomainAdaptionDataModule(\n",
    "    rul_datasets.RulDataModule(source, 32, extractor, 20),\n",
    "    rul_datasets.RulDataModule(target, 32, extractor, 20),\n",
    ")"
   ]
  },
  {
   "cell_type": "markdown",
   "metadata": {},
   "source": [
    "### Running state detection\n",
    "\n",
    "To set the first-time-to-predict (FTTP) for each bearing, the running states must be detected.\n",
    "This approach uses the moving average correlation (MAC) between energy entropies of signals decomposed by maximal overlap wavelet decomposition in a sliding window.\n",
    "We demonstrate this process on Bearing_1_1."
   ]
  },
  {
   "cell_type": "code",
   "execution_count": 126,
   "metadata": {},
   "outputs": [],
   "source": [
    "def wave_denoise(noisy, threshold, threshold_func, level, wave_fkt, axis=1):\n",
    "    \"\"\"\n",
    "    Denoise a signal with wavelets.\n",
    "\n",
    "    Args:\n",
    "        noisy: Noisy signal.\n",
    "        threshold: Threshold choosing method.\n",
    "        threshold_func: Thresholding method.\n",
    "        level: Number of decompositions.\n",
    "        wave_fkt: Descriptor of discrete wavelet function.\n",
    "        axis: Axis to denoise.\n",
    "    Returns:\n",
    "        Denoised signal.\n",
    "    \"\"\"\n",
    "    coeffs = pywt.wavedec(noisy, wave_fkt, level=level, axis=axis)\n",
    "    s = wnoisest(coeffs, level=level)\n",
    "    sigma_1 = s[level - 1]\n",
    "    th = choose_threshold(noisy.reshape(-1), threshold, sigma_1)\n",
    "    coeffsd = [coeffs[0]]\n",
    "    for i in range(0, level):\n",
    "        coeffsd.append(th_denoise(coeffs[1 + i], threshold_func, th))\n",
    "    denoised = pywt.waverec(coeffsd, wave_fkt, axis=axis)\n",
    "\n",
    "    return denoised\n",
    "\n",
    "\n",
    "def choose_threshold(x, threshold_func, sigma_1):\n",
    "    if threshold_func == 'sqtwolog':\n",
    "        th = sqtwolog(x, sigma_1)\n",
    "    elif threshold_func == 'minimaxi':\n",
    "        th = minimaxi(x, sigma_1)\n",
    "    elif threshold_func == 'heursure':\n",
    "        th = heursure(x, sigma_1)\n",
    "    elif threshold_func == 'rigrsure':\n",
    "        th = rigrsure(x)\n",
    "    else:\n",
    "        raise ValueError(\n",
    "            f'Invalid value for threshold selection rule {threshold_func}.')\n",
    "\n",
    "    return th\n",
    "\n",
    "\n",
    "def sqtwolog(x, sigma_1):\n",
    "    return np.sqrt(2 * np.log(len(x))) * sigma_1\n",
    "\n",
    "\n",
    "def minimaxi(x, sigma_1):\n",
    "    l = len(x)\n",
    "    if l < 32:\n",
    "        th = 0\n",
    "    else:\n",
    "        th = (0.3936 + 0.1829) * np.log2(l) * sigma_1\n",
    "\n",
    "    return th\n",
    "\n",
    "\n",
    "def heursure(x, sigma_1):\n",
    "    l = len(x)\n",
    "    hth = sqtwolog(x, sigma_1)\n",
    "    normsqr = np.dot(x, x)\n",
    "    eta = (normsqr ** 2 - l) / l\n",
    "    crit = (np.log2(l) ** 1.5) / np.sqrt(l)\n",
    "    if eta < crit:\n",
    "        th = hth\n",
    "    else:\n",
    "        sx2 = x ** 2\n",
    "        sx2 = np.sort(sx2)\n",
    "        cumsumsx2 = np.cumsum(sx2)\n",
    "        risks = []\n",
    "        for i in range(0, l):\n",
    "            risks.append(\n",
    "                (l - 2 * (i + 1) + (cumsumsx2[i] + (l - 1 - i) * sx2[i])) / l)\n",
    "        mini = np.argmin(risks)\n",
    "\n",
    "        rth = np.sqrt(sx2[mini])\n",
    "        th = min(hth, rth)\n",
    "\n",
    "    return th\n",
    "\n",
    "\n",
    "def rigrsure(x):\n",
    "    l = len(x)\n",
    "    a = np.sort(np.abs(x)) ** 2\n",
    "    c = np.linspace(l - 1, 0, l)\n",
    "    s = np.cumsum(a) + c * a\n",
    "    risk = (l - (2 * np.arange(l)) + s) / l\n",
    "    ibest = np.argmin(risk)\n",
    "    th = np.sqrt(a[ibest])\n",
    "\n",
    "    return th\n",
    "\n",
    "\n",
    "def th_denoise(x, thfkt, th):\n",
    "    if thfkt == 'hard':\n",
    "        idx = np.abs(x) >= th\n",
    "        x[idx] = 0\n",
    "    elif thfkt == 'soft':\n",
    "        idx = np.abs(x) >= th\n",
    "        x[idx] = np.sign(x[idx]) * (np.abs(x[idx]) - th)\n",
    "        x[~idx] = 0\n",
    "    elif thfkt == 'firm':\n",
    "        i = np.abs(x) < th\n",
    "        x[i] = np.sign(x[i]) * (np.abs(x[i] ** 9) / th ** 8)\n",
    "    elif thfkt == 'exp':\n",
    "        i = np.abs(x) > th\n",
    "        x[i] = np.sign(x[i]) * (np.abs(x[i]) - 1.5 ** (th - np.abs(x[i]))) * th\n",
    "        x[~i] = 0\n",
    "    else:\n",
    "        raise ValueError(f'Invalid value for thresholding type {thfkt}')\n",
    "\n",
    "    return x\n",
    "\n",
    "\n",
    "def wnoisest(coeffs, level=None):\n",
    "    if level is None:\n",
    "        sig = np.abs(coeffs[-1])\n",
    "        stdc = [np.median(sig) / 0.6745]\n",
    "    else:\n",
    "        stdc = [np.median(np.abs(c)) / 0.6745 for c in coeffs[1:]]\n",
    "\n",
    "    return stdc"
   ]
  },
  {
   "cell_type": "code",
   "execution_count": 134,
   "metadata": {},
   "outputs": [],
   "source": [
    "runs, _ = source.load_split(\"dev\")\n",
    "bearing_1_1 = runs[0][:, :, 0, None]\n",
    "bearing_1_1 = wave_denoise(bearing_1_1, \"rigrsure\", \"exp\", 4, \"dmey\", axis=1)\n",
    "rms = rul_adapt.approach.tbigru.rms(bearing_1_1)\n",
    "mac = rul_adapt.approach.tbigru.mac(bearing_1_1, 100, \"haar\")"
   ]
  },
  {
   "cell_type": "code",
   "execution_count": 135,
   "metadata": {},
   "outputs": [],
   "source": [
    "def smooth(inputs, alpha):\n",
    "    \"\"\"Produce smoothed version of input signal.\"\"\"\n",
    "    filtered = np.empty_like(inputs)\n",
    "    curr = inputs[0]\n",
    "    for i, update in enumerate(inputs):\n",
    "        curr = alpha * curr + (1 - alpha) * update\n",
    "        filtered[i] = curr\n",
    "\n",
    "    return filtered"
   ]
  },
  {
   "cell_type": "markdown",
   "metadata": {},
   "source": [
    "The MAC should first increase to near 1 and then dip down for a brief period.\n",
    "This marks the end of the running-in state.\n",
    "The following steady working state ends after a second brief dip.\n",
    "The end of the steady working state is considered the FTTP."
   ]
  },
  {
   "cell_type": "code",
   "execution_count": 136,
   "metadata": {},
   "outputs": [
    {
     "data": {
      "image/png": "[encoded data removed]",
      "text/plain": [
       "<Figure size 640x480 with 2 Axes>"
      ]
     },
     "metadata": {},
     "output_type": "display_data"
    }
   ],
   "source": [
    "plt.plot(mac)\n",
    "plt.plot(smooth(mac, 0.8), c=\"tab:orange\")\n",
    "plt.xlabel(\"Time in s\")\n",
    "plt.ylabel(\"MAC\")\n",
    "plt.ylim((0, 1.2))\n",
    "ax = plt.twinx(plt.gca())\n",
    "ax.plot(rms[:, 0], c=\"tab:green\")\n",
    "ax.set_ylabel(\"RMS\")\n",
    "plt.show()"
   ]
  },
  {
   "cell_type": "markdown",
   "metadata": {},
   "source": [
    "We can see the raw and smoothed MAC, as well as the RMS.\n",
    "The plot shows a first dip around 300s and a second dip around 1200s, which would be the first-time-to-predict.\n",
    "Unfortunately, our implementation does not exactly line up with the original results which is why our FTTPs should be regarded with caution."
   ]
  },
  {
   "cell_type": "markdown",
   "metadata": {},
   "source": [
    "## Reproduce original configurations\n",
    "\n",
    "You can reproduce the original experiments of Cao et al. by using the `get_tbigru` constructor function. Known differences to the original paper:\n",
    "\n",
    "* The feature selection is carried out separately for each transfer task instead of jointly for all sub-datasets. This is because the target data should be truncated, as noted above. Therefore, a different sub-dataset needs to be truncated for the feature selection for each task, too.\n",
    "* The first-time-to-predict is likely not correct as the process of determining the running state of the bearing could not be recreated faithfully yet.\n",
    "\n",
    "In this example, we re-create configuration for adaption FEMTO FD001 to FD002.\n",
    "Additional kwargs for the trainer, e.g. accelerator=\"gpu\" for training on a GPU, can be passed to this function, too."
   ]
  },
  {
   "cell_type": "code",
   "execution_count": 10,
   "metadata": {},
   "outputs": [
    {
     "name": "stderr",
     "output_type": "stream",
     "text": [
      "Global seed set to 42\n",
      "GPU available: False, used: False\n",
      "TPU available: False, using: 0 TPU cores\n",
      "IPU available: False, using: 0 IPUs\n",
      "HPU available: False, using: 0 HPUs\n"
     ]
    }
   ],
   "source": [
    "pl.seed_everything(42, workers=True)  # make reproducible\n",
    "dm, tbigru, trainer = rul_adapt.construct.get_tbigru(1, 2, max_epochs=1)"
   ]
  },
  {
   "cell_type": "markdown",
   "metadata": {},
   "source": [
    "The networks, `feature_extractor` and `regressor`, can be accessed as properties of the `tbigru` object."
   ]
  },
  {
   "cell_type": "code",
   "execution_count": 11,
   "metadata": {},
   "outputs": [
    {
     "data": {
      "text/plain": [
       "GruExtractor(\n",
       "  (_fc_layer): Sequential(\n",
       "    (0): Conv1d(30, 15, kernel_size=(1,), stride=(1,))\n",
       "    (1): ReLU()\n",
       "    (2): Conv1d(15, 5, kernel_size=(1,), stride=(1,))\n",
       "    (3): ReLU()\n",
       "  )\n",
       "  (_gru_layers): GRU(5, 5, bidirectional=True)\n",
       ")"
      ]
     },
     "execution_count": 11,
     "metadata": {},
     "output_type": "execute_result"
    }
   ],
   "source": [
    "tbigru.feature_extractor"
   ]
  },
  {
   "cell_type": "markdown",
   "metadata": {},
   "source": [
    "Training is done in the PyTorch Lightning fashion. We used the `trainer_kwargs` to train only one epoch for demonstration purposes."
   ]
  },
  {
   "cell_type": "code",
   "execution_count": 12,
   "metadata": {},
   "outputs": [
    {
     "name": "stderr",
     "output_type": "stream",
     "text": [
      "\n",
      "   | Name               | Type                       | Params\n",
      "-------------------------------------------------------------------\n",
      "0  | train_source_loss  | MeanSquaredError           | 0     \n",
      "1  | mmd_loss           | MaximumMeanDiscrepancyLoss | 0     \n",
      "2  | val_source_rmse    | MeanSquaredError           | 0     \n",
      "3  | val_target_rmse    | MeanSquaredError           | 0     \n",
      "4  | val_source_score   | RULScore                   | 0     \n",
      "5  | val_target_score   | RULScore                   | 0     \n",
      "6  | test_source_rmse   | MeanSquaredError           | 0     \n",
      "7  | test_target_rmse   | MeanSquaredError           | 0     \n",
      "8  | test_source_score  | RULScore                   | 0     \n",
      "9  | test_target_score  | RULScore                   | 0     \n",
      "10 | _feature_extractor | GruExtractor               | 905   \n",
      "11 | _regressor         | FullyConnectedHead         | 11    \n",
      "-------------------------------------------------------------------\n",
      "916       Trainable params\n",
      "0         Non-trainable params\n",
      "916       Total params\n",
      "0.004     Total estimated model params size (MB)\n"
     ]
    },
    {
     "data": {
      "application/vnd.jupyter.widget-view+json": {
       "model_id": "e88499719f134409bde53446370b6aa1",
       "version_major": 2,
       "version_minor": 0
      },
      "text/plain": [
       "Sanity Checking: 0it [00:00, ?it/s]"
      ]
     },
     "metadata": {},
     "output_type": "display_data"
    },
    {
     "name": "stderr",
     "output_type": "stream",
     "text": [
      "/home/tilman/Programming/rul-adapt/.venv/lib/python3.8/site-packages/pytorch_lightning/trainer/trainer.py:1609: PossibleUserWarning: The number of training batches (34) is smaller than the logging interval Trainer(log_every_n_steps=50). Set a lower value for log_every_n_steps if you want to see logs for the training epoch.\n",
      "  rank_zero_warn(\n"
     ]
    },
    {
     "data": {
      "application/vnd.jupyter.widget-view+json": {
       "model_id": "395826d899494a9298a3b2faf10f1f89",
       "version_major": 2,
       "version_minor": 0
      },
      "text/plain": [
       "Training: 0it [00:00, ?it/s]"
      ]
     },
     "metadata": {},
     "output_type": "display_data"
    },
    {
     "data": {
      "application/vnd.jupyter.widget-view+json": {
       "model_id": "bce9da2973404244a446bc1507373210",
       "version_major": 2,
       "version_minor": 0
      },
      "text/plain": [
       "Validation: 0it [00:00, ?it/s]"
      ]
     },
     "metadata": {},
     "output_type": "display_data"
    },
    {
     "name": "stderr",
     "output_type": "stream",
     "text": [
      "`Trainer.fit` stopped: `max_epochs=1` reached.\n"
     ]
    },
    {
     "data": {
      "application/vnd.jupyter.widget-view+json": {
       "model_id": "7ee19857da9542669412986d8f9aa1fe",
       "version_major": 2,
       "version_minor": 0
      },
      "text/plain": [
       "Testing: 0it [00:00, ?it/s]"
      ]
     },
     "metadata": {},
     "output_type": "display_data"
    },
    {
     "name": "stdout",
     "output_type": "stream",
     "text": [
      "────────────────────────────────────────────────────────────────────────────────────────────────────────────────────────\n",
      "       Test metric             DataLoader 0             DataLoader 1\n",
      "────────────────────────────────────────────────────────────────────────────────────────────────────────────────────────\n",
      "    test/source_rmse        0.6534876227378845\n",
      "    test/source_score       115.35706329345703\n",
      "    test/target_rmse                                  0.612580418586731\n",
      "    test/target_score                                29.486780166625977\n",
      "────────────────────────────────────────────────────────────────────────────────────────────────────────────────────────\n"
     ]
    },
    {
     "data": {
      "text/plain": [
       "[{'test/source_rmse/dataloader_idx_0': 0.6534876227378845,\n",
       "  'test/source_score/dataloader_idx_0': 115.35706329345703},\n",
       " {'test/target_rmse/dataloader_idx_1': 0.612580418586731,\n",
       "  'test/target_score/dataloader_idx_1': 29.486780166625977}]"
      ]
     },
     "execution_count": 12,
     "metadata": {},
     "output_type": "execute_result"
    }
   ],
   "source": [
    "trainer.fit(tbigru, dm)\n",
    "trainer.test(tbigru, dm)"
   ]
  },
  {
   "cell_type": "markdown",
   "metadata": {},
   "source": [
    "If you only want to see the hyperparameters, you can use the `get_tbigru_config` function. This returns an `omegeconf.DictConfig` which you can modify."
   ]
  },
  {
   "cell_type": "code",
   "execution_count": 14,
   "metadata": {},
   "outputs": [
    {
     "name": "stdout",
     "output_type": "stream",
     "text": [
      "dm:\n",
      "  source:\n",
      "    _target_: rul_datasets.FemtoReader\n",
      "    fd: 1\n",
      "    run_split_dist:\n",
      "      dev:\n",
      "      - 1\n",
      "      - 7\n",
      "      val:\n",
      "      - 2\n",
      "      - 3\n",
      "      test:\n",
      "      - 6\n",
      "    first_time_to_predict:\n",
      "    - 1200\n",
      "    - 140\n",
      "    - 1050\n",
      "    - 990\n",
      "    - 2300\n",
      "    - 1480\n",
      "    - 1930\n",
      "    norm_rul: true\n",
      "  target:\n",
      "    _target_: rul_datasets.FemtoReader\n",
      "    fd: 2\n",
      "    percent_broken: 0.8\n",
      "    run_split_dist:\n",
      "      dev:\n",
      "      - 1\n",
      "      - 2\n",
      "      val:\n",
      "      - 3\n",
      "      - 4\n",
      "      test:\n",
      "      - 6\n",
      "    first_time_to_predict:\n",
      "    - 160\n",
      "    - 210\n",
      "    - 450\n",
      "    - 200\n",
      "    - 530\n",
      "    - 340\n",
      "    - 40\n",
      "    norm_rul: true\n",
      "  batch_size: 150\n",
      "  feature_extractor:\n",
      "    _target_: rul_adapt.approach.tbigru.VibrationFeatureExtractor\n",
      "    num_input_features: 2\n",
      "    feature_idx:\n",
      "    - 0\n",
      "    - 1\n",
      "    - 4\n",
      "    - 5\n",
      "    - 6\n",
      "    - 7\n",
      "    - 8\n",
      "    - 9\n",
      "    - 10\n",
      "    - 11\n",
      "    - 12\n",
      "    - 13\n",
      "    - 16\n",
      "    - 17\n",
      "    - 20\n",
      "    - 21\n",
      "    - 22\n",
      "    - 23\n",
      "    - 40\n",
      "    - 41\n",
      "    - 43\n",
      "    - 44\n",
      "    - 48\n",
      "    - 50\n",
      "    - 52\n",
      "    - 54\n",
      "    - 56\n",
      "    - 57\n",
      "    - 58\n",
      "    - 59\n",
      "  window_size: 20\n",
      "feature_extractor:\n",
      "  _target_: rul_adapt.model.GruExtractor\n",
      "  input_channels: 30\n",
      "  fc_units:\n",
      "  - 15\n",
      "  - 5\n",
      "  gru_units:\n",
      "  - 5\n",
      "  bidirectional: true\n",
      "regressor:\n",
      "  _target_: rul_adapt.model.FullyConnectedHead\n",
      "  input_channels: 10\n",
      "  act_func_on_last_layer: false\n",
      "  units:\n",
      "  - 1\n",
      "domain_disc:\n",
      "  _target_: rul_adapt.model.FullyConnectedHead\n",
      "  input_channels: 10\n",
      "  act_func_on_last_layer: false\n",
      "  units:\n",
      "  - 1\n",
      "tbigru:\n",
      "  _target_: rul_adapt.approach.TBiGruApproach\n",
      "  lr: 0.001\n",
      "  mmd_factor: 0.1\n",
      "trainer:\n",
      "  _target_: pytorch_lightning.Trainer\n",
      "  max_epochs: 5000\n",
      "\n"
     ]
    }
   ],
   "source": [
    "one2two_config = rul_adapt.construct.get_tbigru_config(1, 2)\n",
    "print(omegaconf.OmegaConf.to_yaml(one2two_config, resolve=True))"
   ]
  },
  {
   "cell_type": "markdown",
   "metadata": {},
   "source": [
    "## Run your own experiments\n",
    "\n",
    "You can use the TBiGRU implementation to run your own experiments with different hyperparameters or on different datasets.\n",
    "Here we use a CNN extractor instead of a BiGRU."
   ]
  },
  {
   "cell_type": "code",
   "execution_count": 16,
   "metadata": {},
   "outputs": [
    {
     "name": "stderr",
     "output_type": "stream",
     "text": [
      "GPU available: False, used: False\n",
      "TPU available: False, using: 0 TPU cores\n",
      "IPU available: False, using: 0 IPUs\n",
      "HPU available: False, using: 0 HPUs\n",
      "\n",
      "   | Name               | Type                       | Params\n",
      "-------------------------------------------------------------------\n",
      "0  | train_source_loss  | MeanSquaredError           | 0     \n",
      "1  | mmd_loss           | MaximumMeanDiscrepancyLoss | 0     \n",
      "2  | val_source_rmse    | MeanSquaredError           | 0     \n",
      "3  | val_target_rmse    | MeanSquaredError           | 0     \n",
      "4  | val_source_score   | RULScore                   | 0     \n",
      "5  | val_target_score   | RULScore                   | 0     \n",
      "6  | test_source_rmse   | MeanSquaredError           | 0     \n",
      "7  | test_target_rmse   | MeanSquaredError           | 0     \n",
      "8  | test_source_score  | RULScore                   | 0     \n",
      "9  | test_target_score  | RULScore                   | 0     \n",
      "10 | _feature_extractor | CnnExtractor               | 2.7 K \n",
      "11 | _regressor         | FullyConnectedHead         | 17    \n",
      "-------------------------------------------------------------------\n",
      "2.7 K     Trainable params\n",
      "0         Non-trainable params\n",
      "2.7 K     Total params\n",
      "0.011     Total estimated model params size (MB)\n"
     ]
    },
    {
     "data": {
      "application/vnd.jupyter.widget-view+json": {
       "model_id": "25e541900a794e1d9b7e6e4aa86b69e6",
       "version_major": 2,
       "version_minor": 0
      },
      "text/plain": [
       "Sanity Checking: 0it [00:00, ?it/s]"
      ]
     },
     "metadata": {},
     "output_type": "display_data"
    },
    {
     "data": {
      "application/vnd.jupyter.widget-view+json": {
       "model_id": "091f10ca14da44c8bf27943a7556caa9",
       "version_major": 2,
       "version_minor": 0
      },
      "text/plain": [
       "Training: 0it [00:00, ?it/s]"
      ]
     },
     "metadata": {},
     "output_type": "display_data"
    },
    {
     "data": {
      "application/vnd.jupyter.widget-view+json": {
       "model_id": "46bb6d2ee931436fa1d7bd569e3c3b54",
       "version_major": 2,
       "version_minor": 0
      },
      "text/plain": [
       "Validation: 0it [00:00, ?it/s]"
      ]
     },
     "metadata": {},
     "output_type": "display_data"
    },
    {
     "name": "stderr",
     "output_type": "stream",
     "text": [
      "`Trainer.fit` stopped: `max_epochs=1` reached.\n"
     ]
    },
    {
     "data": {
      "application/vnd.jupyter.widget-view+json": {
       "model_id": "d432857a6fbb4126a66502e780bd1b49",
       "version_major": 2,
       "version_minor": 0
      },
      "text/plain": [
       "Testing: 0it [00:00, ?it/s]"
      ]
     },
     "metadata": {},
     "output_type": "display_data"
    },
    {
     "name": "stdout",
     "output_type": "stream",
     "text": [
      "────────────────────────────────────────────────────────────────────────────────────────────────────────────────────────\n",
      "       Test metric             DataLoader 0             DataLoader 1\n",
      "────────────────────────────────────────────────────────────────────────────────────────────────────────────────────────\n",
      "    test/source_rmse        0.2846943736076355\n",
      "    test/source_score        187.2696075439453\n",
      "    test/target_rmse                                 0.2845691442489624\n",
      "    test/target_score                                 85.86775207519531\n",
      "────────────────────────────────────────────────────────────────────────────────────────────────────────────────────────\n"
     ]
    },
    {
     "data": {
      "text/plain": [
       "[{'test/source_rmse/dataloader_idx_0': 0.2846943736076355,\n",
       "  'test/source_score/dataloader_idx_0': 187.2696075439453},\n",
       " {'test/target_rmse/dataloader_idx_1': 0.2845691442489624,\n",
       "  'test/target_score/dataloader_idx_1': 85.86775207519531}]"
      ]
     },
     "execution_count": 16,
     "metadata": {},
     "output_type": "execute_result"
    }
   ],
   "source": [
    "source = rul_datasets.FemtoReader(fd=1, norm_rul=True)\n",
    "target = rul_datasets.FemtoReader(fd=2, percent_broken=0.8, norm_rul=True)\n",
    "\n",
    "extractor = rul_adapt.approach.VibrationFeatureExtractor(num_input_features=2,\n",
    "                                                         feature_idx=[0, 1, 2, 3, 4])\n",
    "extractor.fit(source.load_split(\"dev\")[0] + target.load_split(\"dev\")[0])\n",
    "\n",
    "dm = rul_datasets.DomainAdaptionDataModule(\n",
    "    rul_datasets.RulDataModule(source, 32, extractor, window_size=20),\n",
    "    rul_datasets.RulDataModule(target, 32, extractor, window_size=20),\n",
    ")\n",
    "\n",
    "feature_extractor = rul_adapt.model.CnnExtractor(\n",
    "    input_channels=5,\n",
    "    conv_filters=[16, 8],\n",
    "    seq_len=20,\n",
    "    fc_units=16,\n",
    ")\n",
    "regressor = rul_adapt.model.FullyConnectedHead(\n",
    "    input_channels=16,\n",
    "    units=[1],\n",
    "    act_func_on_last_layer=False,\n",
    ")\n",
    "\n",
    "tbigru = rul_adapt.approach.MmdApproach(lr=0.001, mmd_factor=0.1)\n",
    "tbigru.set_model(feature_extractor, regressor)\n",
    "\n",
    "trainer = pl.Trainer(max_epochs=1)\n",
    "\n",
    "trainer.fit(tbigru, dm)\n",
    "trainer.test(tbigru, dm)"
   ]
  }
 ],
 "metadata": {
  "kernelspec": {
   "display_name": "Python 3 (ipykernel)",
   "language": "python",
   "name": "python3"
  },
  "language_info": {
   "codemirror_mode": {
    "name": "ipython",
    "version": 3
   },
   "file_extension": ".py",
   "mimetype": "text/x-python",
   "name": "python",
   "nbconvert_exporter": "python",
   "pygments_lexer": "ipython3",
   "version": "3.8.14"
  }
 },
 "nbformat": 4,
 "nbformat_minor": 1
}
