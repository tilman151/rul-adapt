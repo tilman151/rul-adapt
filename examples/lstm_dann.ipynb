{
 "cells": [
  {
   "cell_type": "markdown",
   "source": [
    "# LSTM DANN"
   ],
   "metadata": {
    "collapsed": false
   }
  },
  {
   "cell_type": "code",
   "execution_count": 14,
   "outputs": [],
   "source": [
    "import rul_adapt\n",
    "import rul_datasets\n",
    "import pytorch_lightning as pl\n",
    "import omegaconf"
   ],
   "metadata": {
    "collapsed": false
   }
  },
  {
   "cell_type": "markdown",
   "source": [
    "## Reproduce original configurations\n",
    "\n",
    "You can reproduce the original experiments of daCosta et al. by using the `get_lstm_dann` constructor function.\n",
    "Known differences to the original are a bigger validation split (20% instead of 10% of training data) and that the target data is truncated with 80% `percent broken`.\n",
    "In this example, we re-create configuration for adaption CMAPSS FD003 to FD001.\n",
    "Additional `kwargs` for the trainer, e.g. `accelerator=\"gpu\"` for training on a GPU, can be passed to this function, too."
   ],
   "metadata": {
    "collapsed": false
   }
  },
  {
   "cell_type": "code",
   "execution_count": 6,
   "outputs": [
    {
     "name": "stderr",
     "output_type": "stream",
     "text": [
      "GPU available: False, used: False\n",
      "TPU available: False, using: 0 TPU cores\n",
      "IPU available: False, using: 0 IPUs\n",
      "HPU available: False, using: 0 HPUs\n"
     ]
    }
   ],
   "source": [
    "pl.seed_everything(42, workers=True)  # make reproducible\n",
    "dm, dann, trainer = rul_adapt.construct.get_lstm_dann(3, 1, max_epochs=1)"
   ],
   "metadata": {
    "collapsed": false
   }
  },
  {
   "cell_type": "markdown",
   "source": [
    "The networks, `feature_extractor`, `regressor`, `domain_disc`, can be accessed as properties of the `dann` object."
   ],
   "metadata": {
    "collapsed": false
   }
  },
  {
   "cell_type": "code",
   "execution_count": 7,
   "outputs": [
    {
     "data": {
      "text/plain": "LstmExtractor(\n  (_lstm_layers): _Rnn(\n    (_layers): ModuleList(\n      (0): LSTM(24, 64)\n      (1): LSTM(64, 32)\n    )\n  )\n  (_fc_layer): Sequential(\n    (0): Dropout(p=0.3, inplace=False)\n    (1): Linear(in_features=32, out_features=128, bias=True)\n    (2): ReLU()\n  )\n)"
     },
     "execution_count": 7,
     "metadata": {},
     "output_type": "execute_result"
    }
   ],
   "source": [
    "dann.feature_extractor"
   ],
   "metadata": {
    "collapsed": false
   }
  },
  {
   "cell_type": "markdown",
   "source": [
    "Training is done in the PyTorch Lightning fashion.\n",
    "We used the `trainer_kwargs` to train only one epoch for demonstration purposes."
   ],
   "metadata": {
    "collapsed": false
   }
  },
  {
   "cell_type": "code",
   "execution_count": 8,
   "outputs": [
    {
     "name": "stderr",
     "output_type": "stream",
     "text": [
      "\n",
      "   | Name               | Type                  | Params\n",
      "--------------------------------------------------------------\n",
      "0  | train_source_loss  | MeanAbsoluteError     | 0     \n",
      "1  | val_source_rmse    | MeanSquaredError      | 0     \n",
      "2  | val_target_rmse    | MeanSquaredError      | 0     \n",
      "3  | val_source_score   | RULScore              | 0     \n",
      "4  | val_target_score   | RULScore              | 0     \n",
      "5  | test_source_rmse   | MeanSquaredError      | 0     \n",
      "6  | test_target_rmse   | MeanSquaredError      | 0     \n",
      "7  | test_source_score  | RULScore              | 0     \n",
      "8  | test_target_score  | RULScore              | 0     \n",
      "9  | _feature_extractor | LstmExtractor         | 39.8 K\n",
      "10 | _regressor         | FullyConnectedHead    | 5.2 K \n",
      "11 | dann_loss          | DomainAdversarialLoss | 5.2 K \n",
      "--------------------------------------------------------------\n",
      "50.2 K    Trainable params\n",
      "0         Non-trainable params\n",
      "50.2 K    Total params\n",
      "0.201     Total estimated model params size (MB)\n"
     ]
    },
    {
     "data": {
      "text/plain": "Sanity Checking: 0it [00:00, ?it/s]",
      "application/vnd.jupyter.widget-view+json": {
       "version_major": 2,
       "version_minor": 0,
       "model_id": "92910c07cf364b69afb804e83c7edb08"
      }
     },
     "metadata": {},
     "output_type": "display_data"
    },
    {
     "data": {
      "text/plain": "Training: 0it [00:00, ?it/s]",
      "application/vnd.jupyter.widget-view+json": {
       "version_major": 2,
       "version_minor": 0,
       "model_id": "59f396a5cf444fc49f292173d53a3c96"
      }
     },
     "metadata": {},
     "output_type": "display_data"
    },
    {
     "data": {
      "text/plain": "Validation: 0it [00:00, ?it/s]",
      "application/vnd.jupyter.widget-view+json": {
       "version_major": 2,
       "version_minor": 0,
       "model_id": "b5fc0ad73c574bd982733fb4a8f63ccc"
      }
     },
     "metadata": {},
     "output_type": "display_data"
    },
    {
     "name": "stderr",
     "output_type": "stream",
     "text": [
      "`Trainer.fit` stopped: `max_epochs=1` reached.\n"
     ]
    },
    {
     "data": {
      "text/plain": "Testing: 0it [00:00, ?it/s]",
      "application/vnd.jupyter.widget-view+json": {
       "version_major": 2,
       "version_minor": 0,
       "model_id": "85cb66399935493c985a27f9f5fa8d73"
      }
     },
     "metadata": {},
     "output_type": "display_data"
    },
    {
     "name": "stdout",
     "output_type": "stream",
     "text": [
      "────────────────────────────────────────────────────────────────────────────────────────────────────────────────────────\n",
      "       Test metric             DataLoader 0             DataLoader 1\n",
      "────────────────────────────────────────────────────────────────────────────────────────────────────────────────────────\n",
      "    test/source_rmse         82.84538269042969\n",
      "    test/source_score          348523.65625\n",
      "    test/target_rmse                                  83.88375854492188\n",
      "    test/target_score                                   321134.09375\n",
      "────────────────────────────────────────────────────────────────────────────────────────────────────────────────────────\n"
     ]
    },
    {
     "data": {
      "text/plain": "[{'test/source_rmse/dataloader_idx_0': 82.84538269042969,\n  'test/source_score/dataloader_idx_0': 348523.65625},\n {'test/target_rmse/dataloader_idx_1': 83.88375854492188,\n  'test/target_score/dataloader_idx_1': 321134.09375}]"
     },
     "execution_count": 8,
     "metadata": {},
     "output_type": "execute_result"
    }
   ],
   "source": [
    "trainer.fit(dann, dm)\n",
    "trainer.test(dann, dm)"
   ],
   "metadata": {
    "collapsed": false
   }
  },
  {
   "cell_type": "markdown",
   "source": [
    "If you only want to see the hyperparameters, you can use the `get_lstm_dann_config` function.\n",
    "This returns an `omegeconf.DictConfig` which you can modify."
   ],
   "metadata": {
    "collapsed": false
   }
  },
  {
   "cell_type": "code",
   "execution_count": 17,
   "outputs": [
    {
     "name": "stdout",
     "output_type": "stream",
     "text": [
      "dm:\n",
      "  source:\n",
      "    _target_: rul_datasets.CmapssReader\n",
      "    fd: 3\n",
      "    feature_select:\n",
      "    - 0\n",
      "    - 1\n",
      "    - 2\n",
      "    - 3\n",
      "    - 4\n",
      "    - 5\n",
      "    - 6\n",
      "    - 7\n",
      "    - 8\n",
      "    - 9\n",
      "    - 10\n",
      "    - 11\n",
      "    - 12\n",
      "    - 13\n",
      "    - 14\n",
      "    - 15\n",
      "    - 16\n",
      "    - 17\n",
      "    - 18\n",
      "    - 19\n",
      "    - 20\n",
      "    - 21\n",
      "    - 22\n",
      "    - 23\n",
      "  target:\n",
      "    fd: 1\n",
      "    percent_broken: 0.8\n",
      "  batch_size: 256\n",
      "feature_extractor:\n",
      "  _target_: rul_adapt.model.LstmExtractor\n",
      "  input_channels: 24\n",
      "  lstm_units:\n",
      "  - 64\n",
      "  - 32\n",
      "  fc_units: 128\n",
      "  lstm_dropout: 0.3\n",
      "  fc_dropout: 0.3\n",
      "regressor:\n",
      "  _target_: rul_adapt.model.FullyConnectedHead\n",
      "  input_channels: 128\n",
      "  act_func_on_last_layer: false\n",
      "  units:\n",
      "  - 32\n",
      "  - 32\n",
      "  - 1\n",
      "  dropout: 0.1\n",
      "domain_disc:\n",
      "  _target_: rul_adapt.model.FullyConnectedHead\n",
      "  input_channels: 128\n",
      "  act_func_on_last_layer: false\n",
      "  units:\n",
      "  - 32\n",
      "  - 32\n",
      "  - 1\n",
      "  dropout: 0.1\n",
      "dann:\n",
      "  _target_: rul_adapt.approach.DannApproach\n",
      "  lr_decay_factor: 0.1\n",
      "  lr_decay_epochs: 100\n",
      "  dann_factor: 2.0\n",
      "  lr: 0.01\n",
      "  weight_decay: 0.01\n",
      "trainer:\n",
      "  _target_: pytorch_lightning.Trainer\n",
      "  max_epochs: 200\n",
      "  gradient_clip_val: 1.0\n",
      "  callbacks:\n",
      "  - _target_: pytorch_lightning.callbacks.EarlyStopping\n",
      "    monitor: val/target_rmse/dataloader_idx_1\n",
      "    patience: 20\n",
      "\n"
     ]
    }
   ],
   "source": [
    "three2one_config = rul_adapt.construct.get_lstm_dann_config(3, 1)\n",
    "print(omegaconf.OmegaConf.to_yaml(three2one_config, resolve=True))"
   ],
   "metadata": {
    "collapsed": false
   }
  },
  {
   "cell_type": "markdown",
   "source": [
    "## Run your own experiments\n",
    "\n",
    "You can use the LSTM DANN implementation to run your own experiments with different hyperparameters or on different datasets.\n",
    "Here we build a smaller LSTM DANN version for CMAPSS."
   ],
   "metadata": {
    "collapsed": false
   }
  },
  {
   "cell_type": "code",
   "execution_count": 23,
   "outputs": [
    {
     "name": "stderr",
     "output_type": "stream",
     "text": [
      "GPU available: False, used: False\n",
      "TPU available: False, using: 0 TPU cores\n",
      "IPU available: False, using: 0 IPUs\n",
      "HPU available: False, using: 0 HPUs\n",
      "\n",
      "   | Name               | Type                  | Params\n",
      "--------------------------------------------------------------\n",
      "0  | train_source_loss  | MeanAbsoluteError     | 0     \n",
      "1  | val_source_rmse    | MeanSquaredError      | 0     \n",
      "2  | val_target_rmse    | MeanSquaredError      | 0     \n",
      "3  | val_source_score   | RULScore              | 0     \n",
      "4  | val_target_score   | RULScore              | 0     \n",
      "5  | test_source_rmse   | MeanSquaredError      | 0     \n",
      "6  | test_target_rmse   | MeanSquaredError      | 0     \n",
      "7  | test_source_score  | RULScore              | 0     \n",
      "8  | test_target_score  | RULScore              | 0     \n",
      "9  | _feature_extractor | LstmExtractor         | 2.2 K \n",
      "10 | _regressor         | FullyConnectedHead    | 81    \n",
      "11 | dann_loss          | DomainAdversarialLoss | 81    \n",
      "--------------------------------------------------------------\n",
      "2.3 K     Trainable params\n",
      "0         Non-trainable params\n",
      "2.3 K     Total params\n",
      "0.009     Total estimated model params size (MB)\n"
     ]
    },
    {
     "data": {
      "text/plain": "Sanity Checking: 0it [00:00, ?it/s]",
      "application/vnd.jupyter.widget-view+json": {
       "version_major": 2,
       "version_minor": 0,
       "model_id": "9c1c8432fa1e4426a9b6c9ced3d36e73"
      }
     },
     "metadata": {},
     "output_type": "display_data"
    },
    {
     "data": {
      "text/plain": "Training: 0it [00:00, ?it/s]",
      "application/vnd.jupyter.widget-view+json": {
       "version_major": 2,
       "version_minor": 0,
       "model_id": "275beff0ae864b6996fd224100d89dba"
      }
     },
     "metadata": {},
     "output_type": "display_data"
    },
    {
     "data": {
      "text/plain": "Validation: 0it [00:00, ?it/s]",
      "application/vnd.jupyter.widget-view+json": {
       "version_major": 2,
       "version_minor": 0,
       "model_id": "15b639b2be1947bcb6ac684fb9c4316d"
      }
     },
     "metadata": {},
     "output_type": "display_data"
    },
    {
     "name": "stderr",
     "output_type": "stream",
     "text": [
      "`Trainer.fit` stopped: `max_epochs=1` reached.\n"
     ]
    },
    {
     "data": {
      "text/plain": "Testing: 0it [00:00, ?it/s]",
      "application/vnd.jupyter.widget-view+json": {
       "version_major": 2,
       "version_minor": 0,
       "model_id": "aff27edea7804d68bcff6ac2b9b1eb56"
      }
     },
     "metadata": {},
     "output_type": "display_data"
    },
    {
     "name": "stdout",
     "output_type": "stream",
     "text": [
      "────────────────────────────────────────────────────────────────────────────────────────────────────────────────────────\n",
      "       Test metric             DataLoader 0             DataLoader 1\n",
      "────────────────────────────────────────────────────────────────────────────────────────────────────────────────────────\n",
      "    test/source_rmse         82.66499328613281\n",
      "    test/source_score          342995.28125\n",
      "    test/target_rmse                                  83.69762420654297\n",
      "    test/target_score                                   315902.21875\n",
      "────────────────────────────────────────────────────────────────────────────────────────────────────────────────────────\n"
     ]
    },
    {
     "data": {
      "text/plain": "[{'test/source_rmse/dataloader_idx_0': 82.66499328613281,\n  'test/source_score/dataloader_idx_0': 342995.28125},\n {'test/target_rmse/dataloader_idx_1': 83.69762420654297,\n  'test/target_score/dataloader_idx_1': 315902.21875}]"
     },
     "execution_count": 23,
     "metadata": {},
     "output_type": "execute_result"
    }
   ],
   "source": [
    "source = rul_datasets.CmapssReader(3)\n",
    "target = source.get_compatible(1, percent_broken=0.8)\n",
    "dm = rul_datasets.DomainAdaptionDataModule(\n",
    "    rul_datasets.RulDataModule(source, batch_size=32),\n",
    "    rul_datasets.RulDataModule(target, batch_size=32),\n",
    ")\n",
    "\n",
    "feature_extractor = rul_adapt.model.LstmExtractor(\n",
    "    input_channels=14,\n",
    "    lstm_units=[16],\n",
    "    fc_units=8,\n",
    ")\n",
    "regressor = rul_adapt.model.FullyConnectedHead(\n",
    "    input_channels=8,\n",
    "    units=[8, 1],\n",
    "    act_func_on_last_layer=False,\n",
    ")\n",
    "domain_disc = rul_adapt.model.FullyConnectedHead(\n",
    "    input_channels=8,\n",
    "    units=[8, 1],\n",
    "    act_func_on_last_layer=False,\n",
    ")\n",
    "\n",
    "dann = rul_adapt.approach.DannApproach(dann_factor=1.0, lr=0.001)\n",
    "dann.set_model(feature_extractor, regressor, domain_disc)\n",
    "\n",
    "trainer = pl.Trainer(max_epochs=1)\n",
    "\n",
    "trainer.fit(dann, dm)\n",
    "trainer.test(dann, dm)"
   ],
   "metadata": {
    "collapsed": false
   }
  }
 ],
 "metadata": {
  "kernelspec": {
   "display_name": "Python 3",
   "language": "python",
   "name": "python3"
  },
  "language_info": {
   "codemirror_mode": {
    "name": "ipython",
    "version": 2
   },
   "file_extension": ".py",
   "mimetype": "text/x-python",
   "name": "python",
   "nbconvert_exporter": "python",
   "pygments_lexer": "ipython2",
   "version": "2.7.6"
  }
 },
 "nbformat": 4,
 "nbformat_minor": 0
}
