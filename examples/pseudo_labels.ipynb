{
 "cells": [
  {
   "cell_type": "markdown",
   "source": [
    "# Pseudo Label Approach"
   ],
   "metadata": {
    "collapsed": false
   }
  },
  {
   "cell_type": "code",
   "execution_count": 1,
   "metadata": {
    "collapsed": true,
    "ExecuteTime": {
     "end_time": "2023-05-11T08:54:02.486722740Z",
     "start_time": "2023-05-11T08:54:01.145496323Z"
    }
   },
   "outputs": [],
   "source": [
    "from itertools import chain\n",
    "\n",
    "import rul_adapt\n",
    "import rul_datasets\n",
    "import pytorch_lightning as pl\n",
    "import torch"
   ]
  },
  {
   "cell_type": "markdown",
   "source": [
    "The pseudo label approach works by training a supervised model on the source domain and then using the model to predict labels for the target domain.\n",
    "The target domain is then combined with the source domain and the model is retrained on the combined dataset.\n",
    "This process is repeated until the model converges.\n",
    "\n",
    "Here, we will train a model of FD003 of the CMAPSS dataset and pseudo label the FD001 dataset."
   ],
   "metadata": {
    "collapsed": false
   }
  },
  {
   "cell_type": "code",
   "execution_count": 2,
   "outputs": [],
   "source": [
    "feature_extractor = rul_adapt.model.CnnExtractor(\n",
    "    14, [32, 16, 8], 30, fc_units=64\n",
    ")\n",
    "regressor = rul_adapt.model.FullyConnectedHead(\n",
    "    64, [1], act_func_on_last_layer=False\n",
    ")"
   ],
   "metadata": {
    "collapsed": false,
    "ExecuteTime": {
     "end_time": "2023-05-11T08:54:02.527194965Z",
     "start_time": "2023-05-11T08:54:02.526817480Z"
    }
   }
  },
  {
   "cell_type": "markdown",
   "source": [
    "## Supervised Training\n",
    "\n",
    "First we set up a data module for FD003."
   ],
   "metadata": {
    "collapsed": false
   }
  },
  {
   "cell_type": "code",
   "execution_count": 3,
   "outputs": [],
   "source": [
    "fd3 = rul_datasets.CmapssReader(fd=3)\n",
    "dm_labeled = rul_datasets.RulDataModule(fd3, batch_size=128)"
   ],
   "metadata": {
    "collapsed": false,
    "ExecuteTime": {
     "end_time": "2023-05-11T08:54:02.527394126Z",
     "start_time": "2023-05-11T08:54:02.527008787Z"
    }
   }
  },
  {
   "cell_type": "markdown",
   "source": [
    "Then we set up a supervised approach and train it for 10 epochs.\n",
    "In practice, it should be trained until the validation loss stops decreasing."
   ],
   "metadata": {
    "collapsed": false
   }
  },
  {
   "cell_type": "code",
   "execution_count": 4,
   "outputs": [
    {
     "name": "stderr",
     "output_type": "stream",
     "text": [
      "GPU available: False, used: False\n",
      "TPU available: False, using: 0 TPU cores\n",
      "IPU available: False, using: 0 IPUs\n",
      "HPU available: False, using: 0 HPUs\n",
      "\n",
      "  | Name               | Type               | Params\n",
      "----------------------------------------------------------\n",
      "0 | train_loss         | MeanSquaredError   | 0     \n",
      "1 | val_loss           | MeanSquaredError   | 0     \n",
      "2 | _feature_extractor | CnnExtractor       | 15.7 K\n",
      "3 | _regressor         | FullyConnectedHead | 65    \n",
      "----------------------------------------------------------\n",
      "15.7 K    Trainable params\n",
      "0         Non-trainable params\n",
      "15.7 K    Total params\n",
      "0.063     Total estimated model params size (MB)\n"
     ]
    },
    {
     "data": {
      "text/plain": "Sanity Checking: 0it [00:00, ?it/s]",
      "application/vnd.jupyter.widget-view+json": {
       "version_major": 2,
       "version_minor": 0,
       "model_id": "f092c098ad4c43b889a4dc6e3c536f2c"
      }
     },
     "metadata": {},
     "output_type": "display_data"
    },
    {
     "data": {
      "text/plain": "Training: 0it [00:00, ?it/s]",
      "application/vnd.jupyter.widget-view+json": {
       "version_major": 2,
       "version_minor": 0,
       "model_id": "4ca8c5aa8a9b4c4aa1b85f550b5e533e"
      }
     },
     "metadata": {},
     "output_type": "display_data"
    },
    {
     "data": {
      "text/plain": "Validation: 0it [00:00, ?it/s]",
      "application/vnd.jupyter.widget-view+json": {
       "version_major": 2,
       "version_minor": 0,
       "model_id": "a892e30ac0e94e789370910bb6732c3a"
      }
     },
     "metadata": {},
     "output_type": "display_data"
    },
    {
     "data": {
      "text/plain": "Validation: 0it [00:00, ?it/s]",
      "application/vnd.jupyter.widget-view+json": {
       "version_major": 2,
       "version_minor": 0,
       "model_id": "2644ac922e404dc68a41f4f0ad6a3021"
      }
     },
     "metadata": {},
     "output_type": "display_data"
    },
    {
     "data": {
      "text/plain": "Validation: 0it [00:00, ?it/s]",
      "application/vnd.jupyter.widget-view+json": {
       "version_major": 2,
       "version_minor": 0,
       "model_id": "00c9fbc8ddf940d6ba0f49b37eb1f45e"
      }
     },
     "metadata": {},
     "output_type": "display_data"
    },
    {
     "data": {
      "text/plain": "Validation: 0it [00:00, ?it/s]",
      "application/vnd.jupyter.widget-view+json": {
       "version_major": 2,
       "version_minor": 0,
       "model_id": "6b881f9946d04ace84263167b9ee32f5"
      }
     },
     "metadata": {},
     "output_type": "display_data"
    },
    {
     "data": {
      "text/plain": "Validation: 0it [00:00, ?it/s]",
      "application/vnd.jupyter.widget-view+json": {
       "version_major": 2,
       "version_minor": 0,
       "model_id": "0bcc14bea0414bb88a9ef39ca57d69db"
      }
     },
     "metadata": {},
     "output_type": "display_data"
    },
    {
     "data": {
      "text/plain": "Validation: 0it [00:00, ?it/s]",
      "application/vnd.jupyter.widget-view+json": {
       "version_major": 2,
       "version_minor": 0,
       "model_id": "32857869ac37425fbbfb77ce9c6db323"
      }
     },
     "metadata": {},
     "output_type": "display_data"
    },
    {
     "data": {
      "text/plain": "Validation: 0it [00:00, ?it/s]",
      "application/vnd.jupyter.widget-view+json": {
       "version_major": 2,
       "version_minor": 0,
       "model_id": "20bee942b6024fa28567a01d4a353a46"
      }
     },
     "metadata": {},
     "output_type": "display_data"
    },
    {
     "data": {
      "text/plain": "Validation: 0it [00:00, ?it/s]",
      "application/vnd.jupyter.widget-view+json": {
       "version_major": 2,
       "version_minor": 0,
       "model_id": "b8f69ccb735c4105961701b7ae879400"
      }
     },
     "metadata": {},
     "output_type": "display_data"
    },
    {
     "data": {
      "text/plain": "Validation: 0it [00:00, ?it/s]",
      "application/vnd.jupyter.widget-view+json": {
       "version_major": 2,
       "version_minor": 0,
       "model_id": "242e43fc39cd4bb58b9e27ae24902cba"
      }
     },
     "metadata": {},
     "output_type": "display_data"
    },
    {
     "data": {
      "text/plain": "Validation: 0it [00:00, ?it/s]",
      "application/vnd.jupyter.widget-view+json": {
       "version_major": 2,
       "version_minor": 0,
       "model_id": "8eb9f7ce4db543b7826a0bd48b7ab5fc"
      }
     },
     "metadata": {},
     "output_type": "display_data"
    },
    {
     "name": "stderr",
     "output_type": "stream",
     "text": [
      "`Trainer.fit` stopped: `max_epochs=10` reached.\n"
     ]
    },
    {
     "data": {
      "text/plain": "Validation: 0it [00:00, ?it/s]",
      "application/vnd.jupyter.widget-view+json": {
       "version_major": 2,
       "version_minor": 0,
       "model_id": "dbd4e53ca27244d584abc52c9d5f2450"
      }
     },
     "metadata": {},
     "output_type": "display_data"
    },
    {
     "name": "stdout",
     "output_type": "stream",
     "text": [
      "────────────────────────────────────────────────────────────────────────────────────────────────────────────────────────\n",
      "     Validate metric           DataLoader 0\n",
      "────────────────────────────────────────────────────────────────────────────────────────────────────────────────────────\n",
      "        val/loss            16.690967559814453\n",
      "────────────────────────────────────────────────────────────────────────────────────────────────────────────────────────\n"
     ]
    },
    {
     "data": {
      "text/plain": "[{'val/loss': 16.690967559814453}]"
     },
     "execution_count": 4,
     "metadata": {},
     "output_type": "execute_result"
    }
   ],
   "source": [
    "approach = rul_adapt.approach.SupervisedApproach(\n",
    "    lr=0.001, loss_type=\"rmse\", optim_type=\"adam\"\n",
    ")\n",
    "approach.set_model(feature_extractor, regressor)\n",
    "\n",
    "trainer = pl.Trainer(max_epochs=10)\n",
    "trainer.fit(approach, dm_labeled)\n",
    "trainer.validate(approach, dm_labeled)"
   ],
   "metadata": {
    "collapsed": false,
    "ExecuteTime": {
     "end_time": "2023-05-11T08:54:17.679571062Z",
     "start_time": "2023-05-11T08:54:02.527090769Z"
    }
   }
  },
  {
   "cell_type": "markdown",
   "source": [
    "## Pseudo Labeling\n",
    "\n",
    "Now we can use the trained model to generate labels for FD001.\n",
    "We truncate FD001 to 80% to simulate a target domain without failure data."
   ],
   "metadata": {
    "collapsed": false
   }
  },
  {
   "cell_type": "code",
   "execution_count": 9,
   "outputs": [],
   "source": [
    "fd1 = rul_datasets.CmapssReader(fd=1, percent_broken=0.8)\n",
    "dm_unlabeled = rul_datasets.RulDataModule(fd1, batch_size=128)"
   ],
   "metadata": {
    "collapsed": false,
    "ExecuteTime": {
     "end_time": "2023-05-11T08:55:23.837542391Z",
     "start_time": "2023-05-11T08:55:23.828685600Z"
    }
   }
  },
  {
   "cell_type": "markdown",
   "source": [
    "The pseudo label is generated for the last time step of each sequence.\n",
    "They may be implausible, e.g. less than zero, in the early iterations and need to be clipped.\n",
    "When patching the data module with the pseudo labels, a suitable RUL values for each sequence are created."
   ],
   "metadata": {
    "collapsed": false
   }
  },
  {
   "cell_type": "code",
   "execution_count": 10,
   "outputs": [
    {
     "name": "stderr",
     "output_type": "stream",
     "text": [
      "/home/tilman/Programming/rul-adapt/rul_adapt/approach/pseudo_labels.py:23: UserWarning: At least one of the generated pseudo labels is negative. Please consider clipping them to zero.\n",
      "  warnings.warn(\n"
     ]
    }
   ],
   "source": [
    "pseudo_labels = rul_adapt.approach.generate_pseudo_labels(dm_unlabeled, approach)\n",
    "pseudo_labels = [max(0, pl) for pl in pseudo_labels]\n",
    "rul_adapt.approach.patch_pseudo_labels(dm_unlabeled, pseudo_labels)"
   ],
   "metadata": {
    "collapsed": false,
    "ExecuteTime": {
     "end_time": "2023-05-11T08:55:23.956212508Z",
     "start_time": "2023-05-11T08:55:23.833653465Z"
    }
   }
  },
  {
   "cell_type": "markdown",
   "source": [
    "We create a new trainer and validate our pre-trained approach on FD001 to get a baseline."
   ],
   "metadata": {
    "collapsed": false
   }
  },
  {
   "cell_type": "code",
   "execution_count": 11,
   "outputs": [
    {
     "name": "stderr",
     "output_type": "stream",
     "text": [
      "GPU available: False, used: False\n",
      "TPU available: False, using: 0 TPU cores\n",
      "IPU available: False, using: 0 IPUs\n",
      "HPU available: False, using: 0 HPUs\n"
     ]
    },
    {
     "data": {
      "text/plain": "Validation: 0it [00:00, ?it/s]",
      "application/vnd.jupyter.widget-view+json": {
       "version_major": 2,
       "version_minor": 0,
       "model_id": "52c1c5da38ad41998c01cfc455c06d94"
      }
     },
     "metadata": {},
     "output_type": "display_data"
    },
    {
     "name": "stdout",
     "output_type": "stream",
     "text": [
      "────────────────────────────────────────────────────────────────────────────────────────────────────────────────────────\n",
      "     Validate metric           DataLoader 0\n",
      "────────────────────────────────────────────────────────────────────────────────────────────────────────────────────────\n",
      "        val/loss             25.90455436706543\n",
      "────────────────────────────────────────────────────────────────────────────────────────────────────────────────────────\n"
     ]
    },
    {
     "data": {
      "text/plain": "[{'val/loss': 25.90455436706543}]"
     },
     "execution_count": 11,
     "metadata": {},
     "output_type": "execute_result"
    }
   ],
   "source": [
    "trainer = pl.Trainer(max_epochs=10)\n",
    "trainer.validate(approach, dm_unlabeled)"
   ],
   "metadata": {
    "collapsed": false,
    "ExecuteTime": {
     "end_time": "2023-05-11T08:55:24.276340019Z",
     "start_time": "2023-05-11T08:55:23.958769411Z"
    }
   }
  },
  {
   "cell_type": "markdown",
   "source": [
    "Afterward, we combine FD003 and the pseudo labeled FD001 and train the approach for another 10 epochs.\n",
    "We can observe that the validation loss decreased significantly.\n",
    "The pseudo labeling and training can now be repeated with the new model until the validation loss converges."
   ],
   "metadata": {
    "collapsed": false
   }
  },
  {
   "cell_type": "code",
   "execution_count": 12,
   "outputs": [
    {
     "name": "stderr",
     "output_type": "stream",
     "text": [
      "/home/tilman/Programming/rul-adapt/.venv/lib/python3.8/site-packages/pytorch_lightning/trainer/configuration_validator.py:108: PossibleUserWarning: You defined a `validation_step` but have no `val_dataloader`. Skipping val loop.\n",
      "  rank_zero_warn(\n",
      "\n",
      "  | Name               | Type               | Params\n",
      "----------------------------------------------------------\n",
      "0 | train_loss         | MeanSquaredError   | 0     \n",
      "1 | val_loss           | MeanSquaredError   | 0     \n",
      "2 | _feature_extractor | CnnExtractor       | 15.7 K\n",
      "3 | _regressor         | FullyConnectedHead | 65    \n",
      "----------------------------------------------------------\n",
      "15.7 K    Trainable params\n",
      "0         Non-trainable params\n",
      "15.7 K    Total params\n",
      "0.063     Total estimated model params size (MB)\n"
     ]
    },
    {
     "data": {
      "text/plain": "Training: 0it [00:00, ?it/s]",
      "application/vnd.jupyter.widget-view+json": {
       "version_major": 2,
       "version_minor": 0,
       "model_id": "8fc231491ffd47978f812c65842fa78c"
      }
     },
     "metadata": {},
     "output_type": "display_data"
    },
    {
     "name": "stderr",
     "output_type": "stream",
     "text": [
      "`Trainer.fit` stopped: `max_epochs=10` reached.\n"
     ]
    },
    {
     "data": {
      "text/plain": "Validation: 0it [00:00, ?it/s]",
      "application/vnd.jupyter.widget-view+json": {
       "version_major": 2,
       "version_minor": 0,
       "model_id": "afb5e58eca4c428a83211b054ecec6fb"
      }
     },
     "metadata": {},
     "output_type": "display_data"
    },
    {
     "name": "stdout",
     "output_type": "stream",
     "text": [
      "────────────────────────────────────────────────────────────────────────────────────────────────────────────────────────\n",
      "     Validate metric           DataLoader 0\n",
      "────────────────────────────────────────────────────────────────────────────────────────────────────────────────────────\n",
      "        val/loss            25.906885147094727\n",
      "────────────────────────────────────────────────────────────────────────────────────────────────────────────────────────\n"
     ]
    },
    {
     "data": {
      "text/plain": "[{'val/loss': 25.906885147094727}]"
     },
     "execution_count": 12,
     "metadata": {},
     "output_type": "execute_result"
    }
   ],
   "source": [
    "combined_train_data = torch.utils.data.ConcatDataset(\n",
    "    [dm_labeled.to_dataset(\"dev\"), dm_unlabeled.to_dataset(\"dev\")]\n",
    ")\n",
    "combined_train_dl = torch.utils.data.DataLoader(\n",
    "    combined_train_data, batch_size=128, shuffle=True\n",
    ")\n",
    "trainer.fit(approach, train_dataloaders=combined_train_dl)\n",
    "trainer.validate(approach, dm_unlabeled)"
   ],
   "metadata": {
    "collapsed": false,
    "ExecuteTime": {
     "end_time": "2023-05-11T08:55:44.305904783Z",
     "start_time": "2023-05-11T08:55:24.275847587Z"
    }
   }
  }
 ],
 "metadata": {
  "kernelspec": {
   "display_name": "Python 3",
   "language": "python",
   "name": "python3"
  },
  "language_info": {
   "codemirror_mode": {
    "name": "ipython",
    "version": 2
   },
   "file_extension": ".py",
   "mimetype": "text/x-python",
   "name": "python",
   "nbconvert_exporter": "python",
   "pygments_lexer": "ipython2",
   "version": "2.7.6"
  }
 },
 "nbformat": 4,
 "nbformat_minor": 0
}
