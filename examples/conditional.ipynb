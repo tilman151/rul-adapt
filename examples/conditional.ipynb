{
 "cells": [
  {
   "cell_type": "markdown",
   "metadata": {},
   "source": [
    "# Conditional Adaption Approach"
   ]
  },
  {
   "cell_type": "code",
   "execution_count": 1,
   "metadata": {
    "ExecuteTime": {
     "end_time": "2023-05-25T12:27:38.751833225Z",
     "start_time": "2023-05-25T12:27:37.091365016Z"
    },
    "collapsed": true
   },
   "outputs": [],
   "source": [
    "import numpy as np\n",
    "import pytorch_lightning as pl\n",
    "import rul_datasets\n",
    "\n",
    "import rul_adapt"
   ]
  },
  {
   "cell_type": "markdown",
   "metadata": {},
   "source": [
    "The conditional adaption approaches are variants of the MMD and DANN approaches.\n",
    "In addition to applying their adaption loss to the whole data, they also apply it separately to pre-defined subsets.\n",
    "Each subset represents a different condition and is defined by a fuzzy set with a rectangular membership function.\n",
    "\n",
    "In the original paper, three subsets are defined based on the RUL values of the source domain.\n",
    "The first fuzzy set contains healthy data which has a RUL value smaller than the median.\n",
    "The second fuzzy set contains degrading data with a RUL value between the 25th and 75th percentile.\n",
    "The last fuzzy set contains faulty data with a RUL value larger than the median.\n",
    "These sets are overlapping by design to take the uncertainty of sample membership into account.\n",
    "\n",
    "We will extract the fuzzy sets' boundaries from the training split of CMAPSS FD003."
   ]
  },
  {
   "cell_type": "code",
   "execution_count": 2,
   "metadata": {
    "ExecuteTime": {
     "end_time": "2023-05-25T12:27:38.850864943Z",
     "start_time": "2023-05-25T12:27:38.748059654Z"
    }
   },
   "outputs": [
    {
     "name": "stdout",
     "output_type": "stream",
     "text": [
      "[(125, 110.0), (55.0, 125.0), (110.0, 0.0)]\n"
     ]
    }
   ],
   "source": [
    "fd3 = rul_datasets.CmapssReader(3)\n",
    "_, targets = fd3.load_split(\"dev\")\n",
    "targets = np.concatenate(targets) # combine all runs\n",
    "median = np.median(targets)\n",
    "lower_quart = np.quantile(targets, 0.25)\n",
    "upper_quart = np.quantile(targets, 0.75)\n",
    "\n",
    "fuzzy_sets = [(fd3.max_rul, median), (lower_quart, upper_quart), (median, 0.0)]\n",
    "print(fuzzy_sets)"
   ]
  },
  {
   "cell_type": "markdown",
   "metadata": {},
   "source": [
    "Now, we can use these fuzzy sets to adapt FD003 to FD001 with conditional MMD.\n",
    "First, we define the adaption data module."
   ]
  },
  {
   "cell_type": "code",
   "execution_count": 3,
   "metadata": {
    "ExecuteTime": {
     "end_time": "2023-05-25T12:27:38.857131427Z",
     "start_time": "2023-05-25T12:27:38.853902111Z"
    }
   },
   "outputs": [],
   "source": [
    "fd1 = rul_datasets.CmapssReader(1, percent_broken=0.8)\n",
    "dm = rul_datasets.DomainAdaptionDataModule(\n",
    "    rul_datasets.RulDataModule(fd3, batch_size=128),\n",
    "    rul_datasets.RulDataModule(fd1, batch_size=128)\n",
    ")"
   ]
  },
  {
   "cell_type": "markdown",
   "metadata": {},
   "source": [
    "Next, we instantiate a conditional MMD approach with a simple CNN feature extractor."
   ]
  },
  {
   "cell_type": "code",
   "execution_count": 4,
   "metadata": {
    "ExecuteTime": {
     "end_time": "2023-05-25T12:27:38.890201561Z",
     "start_time": "2023-05-25T12:27:38.859950510Z"
    }
   },
   "outputs": [],
   "source": [
    "feature_extractor = rul_adapt.model.CnnExtractor(14, [16, 32], 30, fc_units=64)\n",
    "regressor = rul_adapt.model.FullyConnectedHead(\n",
    "    64, [1], act_func_on_last_layer=False\n",
    ")\n",
    "\n",
    "approach = rul_adapt.approach.ConditionalMmdApproach(\n",
    "    lr=0.001,\n",
    "    mmd_factor=1.0,\n",
    "    num_mmd_kernels=5,\n",
    "    dynamic_adaptive_factor=0.5,\n",
    "    fuzzy_sets=fuzzy_sets\n",
    ")\n",
    "approach.set_model(feature_extractor, regressor)"
   ]
  },
  {
   "cell_type": "markdown",
   "metadata": {},
   "source": [
    "We train the approach for 10 epochs and evaluate it on the test split of FD001."
   ]
  },
  {
   "cell_type": "code",
   "execution_count": 5,
   "metadata": {
    "ExecuteTime": {
     "end_time": "2023-05-25T12:28:51.682485574Z",
     "start_time": "2023-05-25T12:27:38.871274781Z"
    }
   },
   "outputs": [
    {
     "name": "stderr",
     "output_type": "stream",
     "text": [
      "GPU available: False, used: False\n",
      "TPU available: False, using: 0 TPU cores\n",
      "IPU available: False, using: 0 IPUs\n",
      "HPU available: False, using: 0 HPUs\n",
      "\n",
      "   | Name                 | Type                       | Params\n",
      "---------------------------------------------------------------------\n",
      "0  | train_source_loss    | MeanAbsoluteError          | 0     \n",
      "1  | mmd_loss             | MaximumMeanDiscrepancyLoss | 0     \n",
      "2  | conditional_mmd_loss | ConditionalAdaptionLoss    | 0     \n",
      "3  | val_source_rmse      | MeanSquaredError           | 0     \n",
      "4  | val_target_rmse      | MeanSquaredError           | 0     \n",
      "5  | val_source_score     | RULScore                   | 0     \n",
      "6  | val_target_score     | RULScore                   | 0     \n",
      "7  | test_source_rmse     | MeanSquaredError           | 0     \n",
      "8  | test_target_rmse     | MeanSquaredError           | 0     \n",
      "9  | test_source_score    | RULScore                   | 0     \n",
      "10 | test_target_score    | RULScore                   | 0     \n",
      "11 | _feature_extractor   | CnnExtractor               | 55.6 K\n",
      "12 | _regressor           | FullyConnectedHead         | 65    \n",
      "---------------------------------------------------------------------\n",
      "55.6 K    Trainable params\n",
      "0         Non-trainable params\n",
      "55.6 K    Total params\n",
      "0.223     Total estimated model params size (MB)\n"
     ]
    },
    {
     "data": {
      "application/vnd.jupyter.widget-view+json": {
       "model_id": "9c2e7446f2004070b8f255d56dcf7483",
       "version_major": 2,
       "version_minor": 0
      },
      "text/plain": [
       "Sanity Checking: 0it [00:00, ?it/s]"
      ]
     },
     "metadata": {},
     "output_type": "display_data"
    },
    {
     "data": {
      "application/vnd.jupyter.widget-view+json": {
       "model_id": "413f0e393eca4ee9a4f01932171d90cb",
       "version_major": 2,
       "version_minor": 0
      },
      "text/plain": [
       "Training: 0it [00:00, ?it/s]"
      ]
     },
     "metadata": {},
     "output_type": "display_data"
    },
    {
     "data": {
      "application/vnd.jupyter.widget-view+json": {
       "model_id": "1cb1bd6d8ad346a09469c4700003ebf1",
       "version_major": 2,
       "version_minor": 0
      },
      "text/plain": [
       "Validation: 0it [00:00, ?it/s]"
      ]
     },
     "metadata": {},
     "output_type": "display_data"
    },
    {
     "data": {
      "application/vnd.jupyter.widget-view+json": {
       "model_id": "fb4d4b6d99b642b0a39aa54eb0ac8597",
       "version_major": 2,
       "version_minor": 0
      },
      "text/plain": [
       "Validation: 0it [00:00, ?it/s]"
      ]
     },
     "metadata": {},
     "output_type": "display_data"
    },
    {
     "data": {
      "application/vnd.jupyter.widget-view+json": {
       "model_id": "eb2bf0406e664e0d86f55371881f2001",
       "version_major": 2,
       "version_minor": 0
      },
      "text/plain": [
       "Validation: 0it [00:00, ?it/s]"
      ]
     },
     "metadata": {},
     "output_type": "display_data"
    },
    {
     "data": {
      "application/vnd.jupyter.widget-view+json": {
       "model_id": "a99770855e674b3080325305ec615ff4",
       "version_major": 2,
       "version_minor": 0
      },
      "text/plain": [
       "Validation: 0it [00:00, ?it/s]"
      ]
     },
     "metadata": {},
     "output_type": "display_data"
    },
    {
     "data": {
      "application/vnd.jupyter.widget-view+json": {
       "model_id": "164ff717fff84b82a0dd1198a117bb89",
       "version_major": 2,
       "version_minor": 0
      },
      "text/plain": [
       "Validation: 0it [00:00, ?it/s]"
      ]
     },
     "metadata": {},
     "output_type": "display_data"
    },
    {
     "data": {
      "application/vnd.jupyter.widget-view+json": {
       "model_id": "c69cfd7cb872459ea84b16a6c240f275",
       "version_major": 2,
       "version_minor": 0
      },
      "text/plain": [
       "Validation: 0it [00:00, ?it/s]"
      ]
     },
     "metadata": {},
     "output_type": "display_data"
    },
    {
     "data": {
      "application/vnd.jupyter.widget-view+json": {
       "model_id": "4e3d8fc7896f4a2fb7c773b2f9e874ec",
       "version_major": 2,
       "version_minor": 0
      },
      "text/plain": [
       "Validation: 0it [00:00, ?it/s]"
      ]
     },
     "metadata": {},
     "output_type": "display_data"
    },
    {
     "data": {
      "application/vnd.jupyter.widget-view+json": {
       "model_id": "e76829004d5f4da6bf10e02419cf593d",
       "version_major": 2,
       "version_minor": 0
      },
      "text/plain": [
       "Validation: 0it [00:00, ?it/s]"
      ]
     },
     "metadata": {},
     "output_type": "display_data"
    },
    {
     "data": {
      "application/vnd.jupyter.widget-view+json": {
       "model_id": "bb48448a4748496389331a22dd4d8b33",
       "version_major": 2,
       "version_minor": 0
      },
      "text/plain": [
       "Validation: 0it [00:00, ?it/s]"
      ]
     },
     "metadata": {},
     "output_type": "display_data"
    },
    {
     "data": {
      "application/vnd.jupyter.widget-view+json": {
       "model_id": "7aa78fed4765476c9a063281d38fe211",
       "version_major": 2,
       "version_minor": 0
      },
      "text/plain": [
       "Validation: 0it [00:00, ?it/s]"
      ]
     },
     "metadata": {},
     "output_type": "display_data"
    },
    {
     "name": "stderr",
     "output_type": "stream",
     "text": [
      "`Trainer.fit` stopped: `max_epochs=10` reached.\n"
     ]
    },
    {
     "data": {
      "application/vnd.jupyter.widget-view+json": {
       "model_id": "6c036386f1164a0bbc4532053810368f",
       "version_major": 2,
       "version_minor": 0
      },
      "text/plain": [
       "Testing: 0it [00:00, ?it/s]"
      ]
     },
     "metadata": {},
     "output_type": "display_data"
    },
    {
     "name": "stdout",
     "output_type": "stream",
     "text": [
      "────────────────────────────────────────────────────────────────────────────────────────────────────────────────────────\n",
      "       Test metric             DataLoader 0             DataLoader 1\n",
      "────────────────────────────────────────────────────────────────────────────────────────────────────────────────────────\n",
      "    test/source_rmse        17.977975845336914\n",
      "    test/source_score       1672.4847412109375\n",
      "    test/target_rmse                                  26.87163734436035\n",
      "    test/target_score                                 2903.09228515625\n",
      "────────────────────────────────────────────────────────────────────────────────────────────────────────────────────────\n"
     ]
    },
    {
     "data": {
      "text/plain": [
       "[{'test/source_rmse/dataloader_idx_0': 17.977975845336914,\n",
       "  'test/source_score/dataloader_idx_0': 1672.4847412109375},\n",
       " {'test/target_rmse/dataloader_idx_1': 26.87163734436035,\n",
       "  'test/target_score/dataloader_idx_1': 2903.09228515625}]"
      ]
     },
     "execution_count": 5,
     "metadata": {},
     "output_type": "execute_result"
    }
   ],
   "source": [
    "trainer = pl.Trainer(max_epochs=10)\n",
    "trainer.fit(approach, dm)\n",
    "trainer.test(approach, dm)"
   ]
  },
  {
   "cell_type": "markdown",
   "metadata": {},
   "source": [
    "We can also use the conditional DANN approach.\n",
    "This will use the same feature extractor and regressor as before and an additional domain discriminator.\n",
    "The discriminator network will be copied for each fuzzy set."
   ]
  },
  {
   "cell_type": "code",
   "execution_count": 7,
   "metadata": {
    "ExecuteTime": {
     "end_time": "2023-05-25T12:30:50.578720868Z",
     "start_time": "2023-05-25T12:30:50.571964384Z"
    }
   },
   "outputs": [],
   "source": [
    "feature_extractor = rul_adapt.model.CnnExtractor(14, [16, 32], 30, fc_units=64)\n",
    "regressor = rul_adapt.model.FullyConnectedHead(\n",
    "    64, [1], act_func_on_last_layer=False\n",
    ")\n",
    "domain_disc = rul_adapt.model.FullyConnectedHead(\n",
    "    64, [1], act_func_on_last_layer=False\n",
    ")\n",
    "\n",
    "approach = rul_adapt.approach.ConditionalDannApproach(\n",
    "    lr=0.001,\n",
    "    dann_factor=1.0,\n",
    "    dynamic_adaptive_factor=0.5,\n",
    "    fuzzy_sets=fuzzy_sets\n",
    ")\n",
    "approach.set_model(feature_extractor, regressor, domain_disc)"
   ]
  },
  {
   "cell_type": "markdown",
   "metadata": {},
   "source": [
    "Again, we will train for 10 epochs and evaluate on the test split of FD001."
   ]
  },
  {
   "cell_type": "code",
   "execution_count": 8,
   "metadata": {
    "ExecuteTime": {
     "end_time": "2023-05-25T12:31:57.965579417Z",
     "start_time": "2023-05-25T12:31:21.844466424Z"
    }
   },
   "outputs": [
    {
     "name": "stderr",
     "output_type": "stream",
     "text": [
      "GPU available: False, used: False\n",
      "TPU available: False, using: 0 TPU cores\n",
      "IPU available: False, using: 0 IPUs\n",
      "HPU available: False, using: 0 HPUs\n",
      "\n",
      "   | Name                  | Type                    | Params\n",
      "-------------------------------------------------------------------\n",
      "0  | train_source_loss     | MeanAbsoluteError       | 0     \n",
      "1  | val_source_rmse       | MeanSquaredError        | 0     \n",
      "2  | val_target_rmse       | MeanSquaredError        | 0     \n",
      "3  | val_source_score      | RULScore                | 0     \n",
      "4  | val_target_score      | RULScore                | 0     \n",
      "5  | test_source_rmse      | MeanSquaredError        | 0     \n",
      "6  | test_target_rmse      | MeanSquaredError        | 0     \n",
      "7  | test_source_score     | RULScore                | 0     \n",
      "8  | test_target_score     | RULScore                | 0     \n",
      "9  | _feature_extractor    | CnnExtractor            | 55.6 K\n",
      "10 | _regressor            | FullyConnectedHead      | 65    \n",
      "11 | dann_loss             | DomainAdversarialLoss   | 65    \n",
      "12 | conditional_dann_loss | ConditionalAdaptionLoss | 195   \n",
      "-------------------------------------------------------------------\n",
      "55.9 K    Trainable params\n",
      "0         Non-trainable params\n",
      "55.9 K    Total params\n",
      "0.224     Total estimated model params size (MB)\n"
     ]
    },
    {
     "data": {
      "application/vnd.jupyter.widget-view+json": {
       "model_id": "d45031082efd4a7587e3ecbfde0204b0",
       "version_major": 2,
       "version_minor": 0
      },
      "text/plain": [
       "Sanity Checking: 0it [00:00, ?it/s]"
      ]
     },
     "metadata": {},
     "output_type": "display_data"
    },
    {
     "data": {
      "application/vnd.jupyter.widget-view+json": {
       "model_id": "97f164ee8d624b7fbf87f0ef8707d29a",
       "version_major": 2,
       "version_minor": 0
      },
      "text/plain": [
       "Training: 0it [00:00, ?it/s]"
      ]
     },
     "metadata": {},
     "output_type": "display_data"
    },
    {
     "data": {
      "application/vnd.jupyter.widget-view+json": {
       "model_id": "81a10d752e894dde84a780b550d5ec0f",
       "version_major": 2,
       "version_minor": 0
      },
      "text/plain": [
       "Validation: 0it [00:00, ?it/s]"
      ]
     },
     "metadata": {},
     "output_type": "display_data"
    },
    {
     "data": {
      "application/vnd.jupyter.widget-view+json": {
       "model_id": "0b9d1907db6b46049136b7d3e5a57f21",
       "version_major": 2,
       "version_minor": 0
      },
      "text/plain": [
       "Validation: 0it [00:00, ?it/s]"
      ]
     },
     "metadata": {},
     "output_type": "display_data"
    },
    {
     "data": {
      "application/vnd.jupyter.widget-view+json": {
       "model_id": "df4ce5fb57e04982b2bd0409b0ca75c6",
       "version_major": 2,
       "version_minor": 0
      },
      "text/plain": [
       "Validation: 0it [00:00, ?it/s]"
      ]
     },
     "metadata": {},
     "output_type": "display_data"
    },
    {
     "data": {
      "application/vnd.jupyter.widget-view+json": {
       "model_id": "4b60f1edc84541199158d6838944f95d",
       "version_major": 2,
       "version_minor": 0
      },
      "text/plain": [
       "Validation: 0it [00:00, ?it/s]"
      ]
     },
     "metadata": {},
     "output_type": "display_data"
    },
    {
     "data": {
      "application/vnd.jupyter.widget-view+json": {
       "model_id": "ffa8fec6598a4185bd0d2c2727a0bfa5",
       "version_major": 2,
       "version_minor": 0
      },
      "text/plain": [
       "Validation: 0it [00:00, ?it/s]"
      ]
     },
     "metadata": {},
     "output_type": "display_data"
    },
    {
     "data": {
      "application/vnd.jupyter.widget-view+json": {
       "model_id": "e637bb5e32d2454880787737ffd5836f",
       "version_major": 2,
       "version_minor": 0
      },
      "text/plain": [
       "Validation: 0it [00:00, ?it/s]"
      ]
     },
     "metadata": {},
     "output_type": "display_data"
    },
    {
     "data": {
      "application/vnd.jupyter.widget-view+json": {
       "model_id": "3f0db1e337d741289112109ed63212c2",
       "version_major": 2,
       "version_minor": 0
      },
      "text/plain": [
       "Validation: 0it [00:00, ?it/s]"
      ]
     },
     "metadata": {},
     "output_type": "display_data"
    },
    {
     "data": {
      "application/vnd.jupyter.widget-view+json": {
       "model_id": "514f62b0c0ea43c895a5ee8cdd33012a",
       "version_major": 2,
       "version_minor": 0
      },
      "text/plain": [
       "Validation: 0it [00:00, ?it/s]"
      ]
     },
     "metadata": {},
     "output_type": "display_data"
    },
    {
     "data": {
      "application/vnd.jupyter.widget-view+json": {
       "model_id": "03861466b0d34119b2947a3290e45263",
       "version_major": 2,
       "version_minor": 0
      },
      "text/plain": [
       "Validation: 0it [00:00, ?it/s]"
      ]
     },
     "metadata": {},
     "output_type": "display_data"
    },
    {
     "data": {
      "application/vnd.jupyter.widget-view+json": {
       "model_id": "a02ac4d628b540afa75939183ba47282",
       "version_major": 2,
       "version_minor": 0
      },
      "text/plain": [
       "Validation: 0it [00:00, ?it/s]"
      ]
     },
     "metadata": {},
     "output_type": "display_data"
    },
    {
     "name": "stderr",
     "output_type": "stream",
     "text": [
      "`Trainer.fit` stopped: `max_epochs=10` reached.\n"
     ]
    },
    {
     "data": {
      "application/vnd.jupyter.widget-view+json": {
       "model_id": "eec88d6b4c6a48deae352afcbcbfdb12",
       "version_major": 2,
       "version_minor": 0
      },
      "text/plain": [
       "Testing: 0it [00:00, ?it/s]"
      ]
     },
     "metadata": {},
     "output_type": "display_data"
    },
    {
     "name": "stdout",
     "output_type": "stream",
     "text": [
      "────────────────────────────────────────────────────────────────────────────────────────────────────────────────────────\n",
      "       Test metric             DataLoader 0             DataLoader 1\n",
      "────────────────────────────────────────────────────────────────────────────────────────────────────────────────────────\n",
      "    test/source_rmse        16.136804580688477\n",
      "    test/source_score         671.06689453125\n",
      "    test/target_rmse                                  25.49993324279785\n",
      "    test/target_score                                 979.5639038085938\n",
      "────────────────────────────────────────────────────────────────────────────────────────────────────────────────────────\n"
     ]
    },
    {
     "data": {
      "text/plain": [
       "[{'test/source_rmse/dataloader_idx_0': 16.136804580688477,\n",
       "  'test/source_score/dataloader_idx_0': 671.06689453125},\n",
       " {'test/target_rmse/dataloader_idx_1': 25.49993324279785,\n",
       "  'test/target_score/dataloader_idx_1': 979.5639038085938}]"
      ]
     },
     "execution_count": 8,
     "metadata": {},
     "output_type": "execute_result"
    }
   ],
   "source": [
    "trainer = pl.Trainer(max_epochs=10)\n",
    "trainer.fit(approach, dm)\n",
    "trainer.test(approach, dm)"
   ]
  }
 ],
 "metadata": {
  "kernelspec": {
   "display_name": "Python 3 (ipykernel)",
   "language": "python",
   "name": "python3"
  },
  "language_info": {
   "codemirror_mode": {
    "name": "ipython",
    "version": 3
   },
   "file_extension": ".py",
   "mimetype": "text/x-python",
   "name": "python",
   "nbconvert_exporter": "python",
   "pygments_lexer": "ipython3",
   "version": "3.8.14"
  }
 },
 "nbformat": 4,
 "nbformat_minor": 1
}
