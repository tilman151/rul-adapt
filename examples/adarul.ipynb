{
 "cells": [
  {
   "cell_type": "markdown",
   "metadata": {},
   "source": [
    "# ADARUL"
   ]
  },
  {
   "cell_type": "code",
   "execution_count": 1,
   "metadata": {
    "collapsed": true
   },
   "outputs": [],
   "source": [
    "import rul_datasets\n",
    "import rul_adapt\n",
    "import pytorch_lightning as pl\n",
    "import omegaconf"
   ]
  },
  {
   "cell_type": "markdown",
   "metadata": {},
   "source": [
    "## Reproduce original configurations\n",
    "\n",
    "You can reproduce the original experiments by Ragab et al. by using the `get_adarul` constructor function.\n",
    "Known differences to the original paper are:\n",
    "\n",
    "* the target data is truncated with 80% `percent_broken` to exclude data from the point of failure\n",
    "\n",
    "Additional kwargs for the trainer, e.g. accelerator=\"gpu\" for training on a GPU, can be passed to the function as a dictionary.\n",
    "The first dictionary is used for the pre-training trainer and the second one for the main trainer."
   ]
  },
  {
   "cell_type": "code",
   "execution_count": 2,
   "metadata": {},
   "outputs": [
    {
     "name": "stderr",
     "output_type": "stream",
     "text": [
      "Global seed set to 42\n",
      "GPU available: False, used: False\n",
      "TPU available: False, using: 0 TPU cores\n",
      "IPU available: False, using: 0 IPUs\n",
      "HPU available: False, using: 0 HPUs\n",
      "GPU available: False, used: False\n",
      "TPU available: False, using: 0 TPU cores\n",
      "IPU available: False, using: 0 IPUs\n",
      "HPU available: False, using: 0 HPUs\n"
     ]
    }
   ],
   "source": [
    "pl.seed_everything(42, workers=True)  # makes is reproducible\n",
    "pre_training, main_training = rul_adapt.construct.get_adarul(\n",
    "    3, 1, {\"max_epochs\": 1}, {\"max_epochs\": 1}\n",
    ")"
   ]
  },
  {
   "cell_type": "markdown",
   "metadata": {},
   "source": [
    "The function returns two tuples.\n",
    "The first contains everything needed for pre-training, the second everything needed for the main training."
   ]
  },
  {
   "cell_type": "code",
   "execution_count": 3,
   "metadata": {},
   "outputs": [
    {
     "name": "stderr",
     "output_type": "stream",
     "text": [
      "Missing logger folder: /home/tilman/Programming/rul-adapt/examples/lightning_logs\n",
      "\n",
      "  | Name               | Type               | Params\n",
      "----------------------------------------------------------\n",
      "0 | train_loss         | MeanSquaredError   | 0     \n",
      "1 | val_loss           | MeanSquaredError   | 0     \n",
      "2 | _feature_extractor | LstmExtractor      | 62.5 K\n",
      "3 | _regressor         | FullyConnectedHead | 6.3 K \n",
      "----------------------------------------------------------\n",
      "68.7 K    Trainable params\n",
      "0         Non-trainable params\n",
      "68.7 K    Total params\n",
      "0.275     Total estimated model params size (MB)\n"
     ]
    },
    {
     "data": {
      "application/vnd.jupyter.widget-view+json": {
       "model_id": "abea1ed092eb4124a13dd4f9408a9340",
       "version_major": 2,
       "version_minor": 0
      },
      "text/plain": [
       "Sanity Checking: 0it [00:00, ?it/s]"
      ]
     },
     "metadata": {},
     "output_type": "display_data"
    },
    {
     "data": {
      "application/vnd.jupyter.widget-view+json": {
       "model_id": "6cea91a2fdf24d08a4f032c21a4b28ae",
       "version_major": 2,
       "version_minor": 0
      },
      "text/plain": [
       "Training: 0it [00:00, ?it/s]"
      ]
     },
     "metadata": {},
     "output_type": "display_data"
    },
    {
     "data": {
      "application/vnd.jupyter.widget-view+json": {
       "model_id": "107b393e72b14fa7908fe853b56e62c0",
       "version_major": 2,
       "version_minor": 0
      },
      "text/plain": [
       "Validation: 0it [00:00, ?it/s]"
      ]
     },
     "metadata": {},
     "output_type": "display_data"
    },
    {
     "name": "stderr",
     "output_type": "stream",
     "text": [
      "`Trainer.fit` stopped: `max_epochs=1` reached.\n"
     ]
    }
   ],
   "source": [
    "pre_dm, pre_approach, pre_trainer = pre_training\n",
    "pre_trainer.fit(pre_approach, pre_dm)"
   ]
  },
  {
   "cell_type": "markdown",
   "metadata": {},
   "source": [
    "After pre-training, we can use the pre-trained networks to initialize the main training.\n",
    "The networks of the pre-training approach, i.e. `feature_extractor` and `regressor`, can be accessed as properties."
   ]
  },
  {
   "cell_type": "code",
   "execution_count": 4,
   "metadata": {},
   "outputs": [
    {
     "name": "stderr",
     "output_type": "stream",
     "text": [
      "\n",
      "   | Name               | Type               | Params\n",
      "-----------------------------------------------------------\n",
      "0  | gan_loss           | BCEWithLogitsLoss  | 0     \n",
      "1  | val_source_rmse    | MeanSquaredError   | 0     \n",
      "2  | val_target_rmse    | MeanSquaredError   | 0     \n",
      "3  | val_source_score   | RULScore           | 0     \n",
      "4  | val_target_score   | RULScore           | 0     \n",
      "5  | test_source_rmse   | MeanSquaredError   | 0     \n",
      "6  | test_target_rmse   | MeanSquaredError   | 0     \n",
      "7  | test_source_score  | RULScore           | 0     \n",
      "8  | test_target_score  | RULScore           | 0     \n",
      "9  | _feature_extractor | LstmExtractor      | 62.5 K\n",
      "10 | _regressor         | FullyConnectedHead | 6.3 K \n",
      "11 | _domain_disc       | FullyConnectedHead | 6.3 K \n",
      "-----------------------------------------------------------\n",
      "75.0 K    Trainable params\n",
      "0         Non-trainable params\n",
      "75.0 K    Total params\n",
      "0.300     Total estimated model params size (MB)\n"
     ]
    },
    {
     "data": {
      "application/vnd.jupyter.widget-view+json": {
       "model_id": "6cad71d1aac945598225d5be2e6f79bf",
       "version_major": 2,
       "version_minor": 0
      },
      "text/plain": [
       "Sanity Checking: 0it [00:00, ?it/s]"
      ]
     },
     "metadata": {},
     "output_type": "display_data"
    },
    {
     "data": {
      "application/vnd.jupyter.widget-view+json": {
       "model_id": "74be5567d8014f5995125bfc54bcff09",
       "version_major": 2,
       "version_minor": 0
      },
      "text/plain": [
       "Training: 0it [00:00, ?it/s]"
      ]
     },
     "metadata": {},
     "output_type": "display_data"
    },
    {
     "data": {
      "application/vnd.jupyter.widget-view+json": {
       "model_id": "0bb3d78a9c784dc0aca40f9cdc45c93e",
       "version_major": 2,
       "version_minor": 0
      },
      "text/plain": [
       "Validation: 0it [00:00, ?it/s]"
      ]
     },
     "metadata": {},
     "output_type": "display_data"
    },
    {
     "name": "stderr",
     "output_type": "stream",
     "text": [
      "`Trainer.fit` stopped: `max_epochs=1` reached.\n"
     ]
    },
    {
     "data": {
      "application/vnd.jupyter.widget-view+json": {
       "model_id": "f709bbaccb3c4a56834c25ecc1496aec",
       "version_major": 2,
       "version_minor": 0
      },
      "text/plain": [
       "Testing: 0it [00:00, ?it/s]"
      ]
     },
     "metadata": {},
     "output_type": "display_data"
    },
    {
     "name": "stdout",
     "output_type": "stream",
     "text": [
      "────────────────────────────────────────────────────────────────────────────────────────────────────────────────────────\n",
      "       Test metric             DataLoader 0             DataLoader 1\n",
      "────────────────────────────────────────────────────────────────────────────────────────────────────────────────────────\n",
      "    test/source_rmse         81.89234924316406\n",
      "    test/source_score           333703.4375\n",
      "    test/target_rmse                                  73.20379638671875\n",
      "    test/target_score                                   123315.53125\n",
      "────────────────────────────────────────────────────────────────────────────────────────────────────────────────────────\n"
     ]
    },
    {
     "data": {
      "text/plain": [
       "[{'test/source_rmse/dataloader_idx_0': 81.89234924316406,\n",
       "  'test/source_score/dataloader_idx_0': 333703.4375},\n",
       " {'test/target_rmse/dataloader_idx_1': 73.20379638671875,\n",
       "  'test/target_score/dataloader_idx_1': 123315.53125}]"
      ]
     },
     "execution_count": 4,
     "metadata": {},
     "output_type": "execute_result"
    }
   ],
   "source": [
    "dm, approach, domain_disc, trainer = main_training\n",
    "approach.set_model(pre_approach.feature_extractor, pre_approach.regressor, domain_disc)\n",
    "trainer.fit(approach, dm)\n",
    "trainer.test(approach, dm)"
   ]
  },
  {
   "cell_type": "markdown",
   "metadata": {},
   "source": [
    "If you only want to see the hyperparameters, you can use the `get_adarul_config` function.\n",
    "This returns an `omegaconf.DictConfig` which you can modify.\n",
    "Afterwards, you can pass the config to `adarul_from_config` to receive the training-ready approach."
   ]
  },
  {
   "cell_type": "code",
   "execution_count": 6,
   "metadata": {},
   "outputs": [
    {
     "name": "stdout",
     "output_type": "stream",
     "text": [
      "dm:\n",
      "  source:\n",
      "    _target_: rul_datasets.CmapssReader\n",
      "    fd: 3\n",
      "    window_size: 30\n",
      "  target:\n",
      "    fd: 1\n",
      "    percent_broken: 0.8\n",
      "  batch_size: 10\n",
      "feature_extractor:\n",
      "  _target_: rul_adapt.model.LstmExtractor\n",
      "  input_channels: 14\n",
      "  lstm_units:\n",
      "  - 32\n",
      "  - 32\n",
      "  - 32\n",
      "  bidirectional: true\n",
      "regressor:\n",
      "  _target_: rul_adapt.model.FullyConnectedHead\n",
      "  input_channels: 64\n",
      "  act_func_on_last_layer: false\n",
      "  units:\n",
      "  - 64\n",
      "  - 32\n",
      "  - 1\n",
      "  dropout: 0.5\n",
      "domain_disc:\n",
      "  _target_: rul_adapt.model.FullyConnectedHead\n",
      "  input_channels: 64\n",
      "  act_func_on_last_layer: false\n",
      "  units:\n",
      "  - 64\n",
      "  - 32\n",
      "  - 1\n",
      "adarul_pre:\n",
      "  _target_: rul_adapt.approach.AdaRulApproachPretraining\n",
      "  lr: 0.0001\n",
      "adarul:\n",
      "  _target_: rul_adapt.approach.AdaRulApproach\n",
      "  lr: 0.0001\n",
      "trainer_pre:\n",
      "  _target_: pytorch_lightning.Trainer\n",
      "  max_epochs: 100\n",
      "trainer:\n",
      "  _target_: pytorch_lightning.Trainer\n",
      "  max_epochs: 20\n",
      "\n"
     ]
    }
   ],
   "source": [
    "three2one_config = rul_adapt.construct.get_adarul_config(3, 1)\n",
    "print(omegaconf.OmegaConf.to_yaml(three2one_config, resolve=True))"
   ]
  },
  {
   "cell_type": "markdown",
   "metadata": {},
   "source": [
    "## Run your own experiments\n",
    "\n",
    "You can use the ADARUL implementation to run your own experiments with different hyperparameters or on different datasets.\n",
    "Here we build an approach with an CNN feature extractor.\n"
   ]
  },
  {
   "cell_type": "code",
   "execution_count": 9,
   "metadata": {},
   "outputs": [
    {
     "name": "stderr",
     "output_type": "stream",
     "text": [
      "GPU available: False, used: False\n",
      "TPU available: False, using: 0 TPU cores\n",
      "IPU available: False, using: 0 IPUs\n",
      "HPU available: False, using: 0 HPUs\n",
      "\n",
      "  | Name               | Type               | Params\n",
      "----------------------------------------------------------\n",
      "0 | train_loss         | MeanSquaredError   | 0     \n",
      "1 | val_loss           | MeanSquaredError   | 0     \n",
      "2 | _feature_extractor | CnnExtractor       | 5.3 K \n",
      "3 | _regressor         | FullyConnectedHead | 81    \n",
      "----------------------------------------------------------\n",
      "5.4 K     Trainable params\n",
      "0         Non-trainable params\n",
      "5.4 K     Total params\n",
      "0.022     Total estimated model params size (MB)\n"
     ]
    },
    {
     "data": {
      "application/vnd.jupyter.widget-view+json": {
       "model_id": "3a64ed8a22914e5695ee90705b7cc824",
       "version_major": 2,
       "version_minor": 0
      },
      "text/plain": [
       "Sanity Checking: 0it [00:00, ?it/s]"
      ]
     },
     "metadata": {},
     "output_type": "display_data"
    },
    {
     "name": "stderr",
     "output_type": "stream",
     "text": [
      "`Trainer.fit` stopped: `max_epochs=1` reached.\n",
      "GPU available: False, used: False\n",
      "TPU available: False, using: 0 TPU cores\n",
      "IPU available: False, using: 0 IPUs\n",
      "HPU available: False, using: 0 HPUs\n",
      "\n",
      "   | Name               | Type               | Params\n",
      "-----------------------------------------------------------\n",
      "0  | gan_loss           | BCEWithLogitsLoss  | 0     \n",
      "1  | val_source_rmse    | MeanSquaredError   | 0     \n",
      "2  | val_target_rmse    | MeanSquaredError   | 0     \n",
      "3  | val_source_score   | RULScore           | 0     \n",
      "4  | val_target_score   | RULScore           | 0     \n",
      "5  | test_source_rmse   | MeanSquaredError   | 0     \n",
      "6  | test_target_rmse   | MeanSquaredError   | 0     \n",
      "7  | test_source_score  | RULScore           | 0     \n",
      "8  | test_target_score  | RULScore           | 0     \n",
      "9  | _feature_extractor | CnnExtractor       | 5.3 K \n",
      "10 | _regressor         | FullyConnectedHead | 81    \n",
      "11 | _domain_disc       | FullyConnectedHead | 81    \n",
      "-----------------------------------------------------------\n",
      "5.5 K     Trainable params\n",
      "0         Non-trainable params\n",
      "5.5 K     Total params\n",
      "0.022     Total estimated model params size (MB)\n"
     ]
    },
    {
     "data": {
      "application/vnd.jupyter.widget-view+json": {
       "model_id": "497d2d4862b14c288d6ba58751472062",
       "version_major": 2,
       "version_minor": 0
      },
      "text/plain": [
       "Sanity Checking: 0it [00:00, ?it/s]"
      ]
     },
     "metadata": {},
     "output_type": "display_data"
    },
    {
     "data": {
      "application/vnd.jupyter.widget-view+json": {
       "model_id": "01091e588f374987af588ecd79f1f597",
       "version_major": 2,
       "version_minor": 0
      },
      "text/plain": [
       "Training: 0it [00:00, ?it/s]"
      ]
     },
     "metadata": {},
     "output_type": "display_data"
    },
    {
     "data": {
      "application/vnd.jupyter.widget-view+json": {
       "model_id": "496bad6126e34295b5dded37cd184a52",
       "version_major": 2,
       "version_minor": 0
      },
      "text/plain": [
       "Validation: 0it [00:00, ?it/s]"
      ]
     },
     "metadata": {},
     "output_type": "display_data"
    },
    {
     "name": "stderr",
     "output_type": "stream",
     "text": [
      "`Trainer.fit` stopped: `max_epochs=1` reached.\n"
     ]
    },
    {
     "data": {
      "application/vnd.jupyter.widget-view+json": {
       "model_id": "8043f424f3574da7832f324747df4120",
       "version_major": 2,
       "version_minor": 0
      },
      "text/plain": [
       "Testing: 0it [00:00, ?it/s]"
      ]
     },
     "metadata": {},
     "output_type": "display_data"
    },
    {
     "name": "stdout",
     "output_type": "stream",
     "text": [
      "────────────────────────────────────────────────────────────────────────────────────────────────────────────────────────\n",
      "       Test metric             DataLoader 0             DataLoader 1\n",
      "────────────────────────────────────────────────────────────────────────────────────────────────────────────────────────\n",
      "    test/source_rmse         83.66500091552734\n",
      "    test/source_score           374342.0625\n",
      "    test/target_rmse                                  84.70077514648438\n",
      "    test/target_score                                    344921.375\n",
      "────────────────────────────────────────────────────────────────────────────────────────────────────────────────────────\n"
     ]
    },
    {
     "data": {
      "text/plain": [
       "[{'test/source_rmse/dataloader_idx_0': 83.66500091552734,\n",
       "  'test/source_score/dataloader_idx_0': 374342.0625},\n",
       " {'test/target_rmse/dataloader_idx_1': 84.70077514648438,\n",
       "  'test/target_score/dataloader_idx_1': 344921.375}]"
      ]
     },
     "execution_count": 9,
     "metadata": {},
     "output_type": "execute_result"
    }
   ],
   "source": [
    "source = rul_datasets.CmapssReader(3)\n",
    "target = source.get_compatible(1, percent_broken=0.8)\n",
    "\n",
    "pre_dm = rul_datasets.RulDataModule(source, batch_size=32)\n",
    "dm = rul_datasets.DomainAdaptionDataModule(\n",
    "    pre_dm, rul_datasets.RulDataModule(target, batch_size=32),\n",
    ")\n",
    "\n",
    "feature_extractor = rul_adapt.model.CnnExtractor(\n",
    "    input_channels=14,\n",
    "    conv_filters=[16, 16, 16],\n",
    "    seq_len=30,\n",
    "    fc_units=8,\n",
    ")\n",
    "regressor = rul_adapt.model.FullyConnectedHead(\n",
    "    input_channels=8,\n",
    "    units=[8, 1],\n",
    "    act_func_on_last_layer=False,\n",
    ")\n",
    "domain_disc = rul_adapt.model.FullyConnectedHead(\n",
    "    input_channels=8,\n",
    "    units=[8, 1],\n",
    "    act_func_on_last_layer=False,\n",
    ")\n",
    "\n",
    "pre_approach = rul_adapt.approach.AdaRulApproachPretraining(lr=0.001)\n",
    "pre_approach.set_model(feature_extractor, regressor)\n",
    "pre_trainer = pl.Trainer(max_epochs=1)\n",
    "trainer.fit(pre_approach, pre_dm)\n",
    "\n",
    "approach = rul_adapt.approach.AdaRulApproach(lr=0.001)\n",
    "approach.set_model(\n",
    "    pre_approach.feature_extractor, pre_approach.regressor, domain_disc\n",
    ")\n",
    "trainer = pl.Trainer(max_epochs=1)\n",
    "trainer.fit(approach, dm)\n",
    "trainer.test(approach, dm)"
   ]
  }
 ],
 "metadata": {
  "kernelspec": {
   "display_name": "Python 3 (ipykernel)",
   "language": "python",
   "name": "python3"
  },
  "language_info": {
   "codemirror_mode": {
    "name": "ipython",
    "version": 3
   },
   "file_extension": ".py",
   "mimetype": "text/x-python",
   "name": "python",
   "nbconvert_exporter": "python",
   "pygments_lexer": "ipython3",
   "version": "3.8.14"
  }
 },
 "nbformat": 4,
 "nbformat_minor": 1
}
