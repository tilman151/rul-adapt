{
 "cells": [
  {
   "cell_type": "markdown",
   "source": [
    "# LSTM DANN"
   ],
   "metadata": {
    "collapsed": false
   }
  },
  {
   "cell_type": "code",
   "execution_count": 1,
   "outputs": [],
   "source": [
    "import rul_adapt\n",
    "import rul_datasets\n",
    "import pytorch_lightning as pl\n",
    "import omegaconf"
   ],
   "metadata": {
    "collapsed": false,
    "ExecuteTime": {
     "end_time": "2023-11-16T14:20:45.021475726Z",
     "start_time": "2023-11-16T14:20:43.250582007Z"
    }
   }
  },
  {
   "cell_type": "markdown",
   "source": [
    "## Reproduce original configurations\n",
    "\n",
    "You can reproduce the original experiments of daCosta et al. by using the `get_lstm_dann` constructor function.\n",
    "Known differences to the original are:\n",
    "\n",
    "* a bigger validation split (20% instead of 10% of training data).\n",
    "\n",
    "In this example, we re-create configuration for adaption CMAPSS FD003 to FD001.\n",
    "Additional `kwargs` for the trainer, e.g. `accelerator=\"gpu\"` for training on a GPU, can be passed to this function, too."
   ],
   "metadata": {
    "collapsed": false
   }
  },
  {
   "cell_type": "code",
   "execution_count": 2,
   "outputs": [
    {
     "name": "stderr",
     "output_type": "stream",
     "text": [
      "Global seed set to 42\n",
      "GPU available: False, used: False\n",
      "TPU available: False, using: 0 TPU cores\n",
      "IPU available: False, using: 0 IPUs\n",
      "HPU available: False, using: 0 HPUs\n"
     ]
    }
   ],
   "source": [
    "pl.seed_everything(42, workers=True)  # make reproducible\n",
    "dm, dann, trainer = rul_adapt.construct.get_lstm_dann(3, 1, max_epochs=1)"
   ],
   "metadata": {
    "collapsed": false,
    "ExecuteTime": {
     "end_time": "2023-11-16T14:20:45.254740413Z",
     "start_time": "2023-11-16T14:20:45.022087625Z"
    }
   }
  },
  {
   "cell_type": "markdown",
   "source": [
    "The networks, `feature_extractor`, `regressor`, `domain_disc`, can be accessed as properties of the `dann` object."
   ],
   "metadata": {
    "collapsed": false
   }
  },
  {
   "cell_type": "code",
   "execution_count": 3,
   "outputs": [
    {
     "data": {
      "text/plain": "LstmExtractor(\n  (_lstm_layers): _Rnn(\n    (_layers): ModuleList(\n      (0): LSTM(24, 64)\n      (1): LSTM(64, 32)\n    )\n  )\n  (_fc_layer): Sequential(\n    (0): Dropout(p=0.3, inplace=False)\n    (1): Linear(in_features=32, out_features=128, bias=True)\n    (2): ReLU()\n  )\n)"
     },
     "execution_count": 3,
     "metadata": {},
     "output_type": "execute_result"
    }
   ],
   "source": [
    "dann.feature_extractor"
   ],
   "metadata": {
    "collapsed": false,
    "ExecuteTime": {
     "end_time": "2023-11-16T14:20:45.261165919Z",
     "start_time": "2023-11-16T14:20:45.250321315Z"
    }
   }
  },
  {
   "cell_type": "markdown",
   "source": [
    "Training is done in the PyTorch Lightning fashion.\n",
    "We used the `trainer_kwargs` to train only one epoch for demonstration purposes."
   ],
   "metadata": {
    "collapsed": false
   }
  },
  {
   "cell_type": "code",
   "execution_count": 4,
   "outputs": [
    {
     "name": "stderr",
     "output_type": "stream",
     "text": [
      "\n",
      "  | Name               | Type                  | Params\n",
      "-------------------------------------------------------------\n",
      "0 | train_source_loss  | MeanAbsoluteError     | 0     \n",
      "1 | evaluator          | AdaptionEvaluator     | 0     \n",
      "2 | _feature_extractor | LstmExtractor         | 39.8 K\n",
      "3 | _regressor         | FullyConnectedHead    | 5.2 K \n",
      "4 | dann_loss          | DomainAdversarialLoss | 5.2 K \n",
      "-------------------------------------------------------------\n",
      "50.2 K    Trainable params\n",
      "0         Non-trainable params\n",
      "50.2 K    Total params\n",
      "0.201     Total estimated model params size (MB)\n"
     ]
    },
    {
     "data": {
      "text/plain": "Sanity Checking: 0it [00:00, ?it/s]",
      "application/vnd.jupyter.widget-view+json": {
       "version_major": 2,
       "version_minor": 0,
       "model_id": "642a735b2a7a463ea6932747d2b0ac6d"
      }
     },
     "metadata": {},
     "output_type": "display_data"
    },
    {
     "data": {
      "text/plain": "Training: 0it [00:00, ?it/s]",
      "application/vnd.jupyter.widget-view+json": {
       "version_major": 2,
       "version_minor": 0,
       "model_id": "8299e3e21e34425caf3a497a51cb8d42"
      }
     },
     "metadata": {},
     "output_type": "display_data"
    },
    {
     "data": {
      "text/plain": "Validation: 0it [00:00, ?it/s]",
      "application/vnd.jupyter.widget-view+json": {
       "version_major": 2,
       "version_minor": 0,
       "model_id": "c599ef9b5aad48c096e225e6a4fbe095"
      }
     },
     "metadata": {},
     "output_type": "display_data"
    },
    {
     "name": "stderr",
     "output_type": "stream",
     "text": [
      "`Trainer.fit` stopped: `max_epochs=1` reached.\n",
      "Restoring states from the checkpoint path at /home/tilman/Programming/rul-adapt/docs/examples/lightning_logs/version_32/checkpoints/epoch=0-step=69.ckpt\n",
      "Loaded model weights from checkpoint at /home/tilman/Programming/rul-adapt/docs/examples/lightning_logs/version_32/checkpoints/epoch=0-step=69.ckpt\n"
     ]
    },
    {
     "data": {
      "text/plain": "Testing: 0it [00:00, ?it/s]",
      "application/vnd.jupyter.widget-view+json": {
       "version_major": 2,
       "version_minor": 0,
       "model_id": "31e09455245840678126f1fabe1ce208"
      }
     },
     "metadata": {},
     "output_type": "display_data"
    },
    {
     "name": "stdout",
     "output_type": "stream",
     "text": [
      "────────────────────────────────────────────────────────────────────────────────────────────────────────────────────────\n",
      "       Test metric             DataLoader 0             DataLoader 1\n",
      "────────────────────────────────────────────────────────────────────────────────────────────────────────────────────────\n",
      "    test/source/rmse        20.155813217163086\n",
      "    test/source/score        1689.973876953125\n",
      "    test/target/rmse                                  32.33406448364258\n",
      "    test/target/score                                 12900.6259765625\n",
      "────────────────────────────────────────────────────────────────────────────────────────────────────────────────────────\n"
     ]
    },
    {
     "data": {
      "text/plain": "[{'test/source/rmse/dataloader_idx_0': 20.155813217163086,\n  'test/source/score/dataloader_idx_0': 1689.973876953125},\n {'test/target/rmse/dataloader_idx_1': 32.33406448364258,\n  'test/target/score/dataloader_idx_1': 12900.6259765625}]"
     },
     "execution_count": 4,
     "metadata": {},
     "output_type": "execute_result"
    }
   ],
   "source": [
    "trainer.fit(dann, dm)\n",
    "trainer.test(ckpt_path=\"best\", datamodule=dm) # loads the best model checkpoint"
   ],
   "metadata": {
    "collapsed": false,
    "ExecuteTime": {
     "end_time": "2023-11-16T14:20:57.734707703Z",
     "start_time": "2023-11-16T14:20:45.255032959Z"
    }
   }
  },
  {
   "cell_type": "markdown",
   "source": [
    "If you only want to see the hyperparameters, you can use the `get_lstm_dann_config` function.\n",
    "This returns an `omegeconf.DictConfig` which you can modify."
   ],
   "metadata": {
    "collapsed": false
   }
  },
  {
   "cell_type": "code",
   "execution_count": 5,
   "outputs": [
    {
     "name": "stdout",
     "output_type": "stream",
     "text": [
      "dm:\n",
      "  source:\n",
      "    _target_: rul_datasets.CmapssReader\n",
      "    fd: 3\n",
      "    feature_select:\n",
      "    - 0\n",
      "    - 1\n",
      "    - 2\n",
      "    - 3\n",
      "    - 4\n",
      "    - 5\n",
      "    - 6\n",
      "    - 7\n",
      "    - 8\n",
      "    - 9\n",
      "    - 10\n",
      "    - 11\n",
      "    - 12\n",
      "    - 13\n",
      "    - 14\n",
      "    - 15\n",
      "    - 16\n",
      "    - 17\n",
      "    - 18\n",
      "    - 19\n",
      "    - 20\n",
      "    - 21\n",
      "    - 22\n",
      "    - 23\n",
      "  target:\n",
      "    fd: 1\n",
      "    percent_broken: 1.0\n",
      "  batch_size: 256\n",
      "feature_extractor:\n",
      "  _convert_: all\n",
      "  _target_: rul_adapt.model.LstmExtractor\n",
      "  input_channels: 24\n",
      "  units:\n",
      "  - 64\n",
      "  - 32\n",
      "  fc_units: 128\n",
      "  dropout: 0.3\n",
      "  fc_dropout: 0.3\n",
      "regressor:\n",
      "  _convert_: all\n",
      "  _target_: rul_adapt.model.FullyConnectedHead\n",
      "  input_channels: 128\n",
      "  act_func_on_last_layer: false\n",
      "  units:\n",
      "  - 32\n",
      "  - 32\n",
      "  - 1\n",
      "  dropout: 0.1\n",
      "domain_disc:\n",
      "  _convert_: all\n",
      "  _target_: rul_adapt.model.FullyConnectedHead\n",
      "  input_channels: 128\n",
      "  act_func_on_last_layer: false\n",
      "  units:\n",
      "  - 32\n",
      "  - 32\n",
      "  - 1\n",
      "  dropout: 0.1\n",
      "dann:\n",
      "  _target_: rul_adapt.approach.DannApproach\n",
      "  scheduler_type: step\n",
      "  scheduler_gamma: 0.1\n",
      "  scheduler_step_size: 100\n",
      "  dann_factor: 2.0\n",
      "  lr: 0.01\n",
      "  optim_weight_decay: 0.01\n",
      "trainer:\n",
      "  _target_: pytorch_lightning.Trainer\n",
      "  max_epochs: 200\n",
      "  gradient_clip_val: 1.0\n",
      "  callbacks:\n",
      "  - _target_: pytorch_lightning.callbacks.EarlyStopping\n",
      "    monitor: val/target/rmse/dataloader_idx_1\n",
      "    patience: 20\n",
      "  - _target_: pytorch_lightning.callbacks.ModelCheckpoint\n",
      "    save_top_k: 1\n",
      "    monitor: val/target/rmse/dataloader_idx_1\n",
      "    mode: min\n"
     ]
    }
   ],
   "source": [
    "three2one_config = rul_adapt.construct.get_lstm_dann_config(3, 1)\n",
    "print(omegaconf.OmegaConf.to_yaml(three2one_config, resolve=True))"
   ],
   "metadata": {
    "collapsed": false,
    "ExecuteTime": {
     "end_time": "2023-11-16T14:20:57.852765477Z",
     "start_time": "2023-11-16T14:20:57.733063816Z"
    }
   }
  },
  {
   "cell_type": "markdown",
   "source": [
    "## Run your own experiments\n",
    "\n",
    "You can use the LSTM DANN implementation to run your own experiments with different hyperparameters or on different datasets.\n",
    "Here we build a smaller LSTM DANN version for CMAPSS."
   ],
   "metadata": {
    "collapsed": false
   }
  },
  {
   "cell_type": "code",
   "execution_count": 7,
   "outputs": [
    {
     "name": "stderr",
     "output_type": "stream",
     "text": [
      "GPU available: False, used: False\n",
      "TPU available: False, using: 0 TPU cores\n",
      "IPU available: False, using: 0 IPUs\n",
      "HPU available: False, using: 0 HPUs\n",
      "\n",
      "  | Name               | Type                  | Params\n",
      "-------------------------------------------------------------\n",
      "0 | train_source_loss  | MeanAbsoluteError     | 0     \n",
      "1 | evaluator          | AdaptionEvaluator     | 0     \n",
      "2 | _feature_extractor | LstmExtractor         | 2.2 K \n",
      "3 | _regressor         | FullyConnectedHead    | 81    \n",
      "4 | dann_loss          | DomainAdversarialLoss | 81    \n",
      "-------------------------------------------------------------\n",
      "2.3 K     Trainable params\n",
      "0         Non-trainable params\n",
      "2.3 K     Total params\n",
      "0.009     Total estimated model params size (MB)\n"
     ]
    },
    {
     "data": {
      "text/plain": "Sanity Checking: 0it [00:00, ?it/s]",
      "application/vnd.jupyter.widget-view+json": {
       "version_major": 2,
       "version_minor": 0,
       "model_id": "e6c81732a70442368ab4fed3252594ed"
      }
     },
     "metadata": {},
     "output_type": "display_data"
    },
    {
     "data": {
      "text/plain": "Training: 0it [00:00, ?it/s]",
      "application/vnd.jupyter.widget-view+json": {
       "version_major": 2,
       "version_minor": 0,
       "model_id": "ea08721226af442085dd7325d3b8c4c2"
      }
     },
     "metadata": {},
     "output_type": "display_data"
    },
    {
     "data": {
      "text/plain": "Validation: 0it [00:00, ?it/s]",
      "application/vnd.jupyter.widget-view+json": {
       "version_major": 2,
       "version_minor": 0,
       "model_id": "d006a67935244075afd848cfb030c421"
      }
     },
     "metadata": {},
     "output_type": "display_data"
    },
    {
     "name": "stderr",
     "output_type": "stream",
     "text": [
      "`Trainer.fit` stopped: `max_epochs=1` reached.\n"
     ]
    },
    {
     "data": {
      "text/plain": "Testing: 0it [00:00, ?it/s]",
      "application/vnd.jupyter.widget-view+json": {
       "version_major": 2,
       "version_minor": 0,
       "model_id": "37ae9b30df304190aa435f6d7252c2f4"
      }
     },
     "metadata": {},
     "output_type": "display_data"
    },
    {
     "name": "stdout",
     "output_type": "stream",
     "text": [
      "────────────────────────────────────────────────────────────────────────────────────────────────────────────────────────\n",
      "       Test metric             DataLoader 0             DataLoader 1\n",
      "────────────────────────────────────────────────────────────────────────────────────────────────────────────────────────\n",
      "    test/source/rmse        20.648313522338867\n",
      "    test/source/score          876.435546875\n",
      "    test/target/rmse                                 21.399911880493164\n",
      "    test/target/score                                1010.3373413085938\n",
      "────────────────────────────────────────────────────────────────────────────────────────────────────────────────────────\n"
     ]
    },
    {
     "data": {
      "text/plain": "[{'test/source/rmse/dataloader_idx_0': 20.648313522338867,\n  'test/source/score/dataloader_idx_0': 876.435546875},\n {'test/target/rmse/dataloader_idx_1': 21.399911880493164,\n  'test/target/score/dataloader_idx_1': 1010.3373413085938}]"
     },
     "execution_count": 7,
     "metadata": {},
     "output_type": "execute_result"
    }
   ],
   "source": [
    "source = rul_datasets.CmapssReader(3)\n",
    "target = source.get_compatible(1, percent_broken=0.8)\n",
    "dm = rul_datasets.DomainAdaptionDataModule(\n",
    "    rul_datasets.RulDataModule(source, batch_size=32),\n",
    "    rul_datasets.RulDataModule(target, batch_size=32),\n",
    ")\n",
    "\n",
    "feature_extractor = rul_adapt.model.LstmExtractor(\n",
    "    input_channels=14,\n",
    "    units=[16],\n",
    "    fc_units=8,\n",
    ")\n",
    "regressor = rul_adapt.model.FullyConnectedHead(\n",
    "    input_channels=8,\n",
    "    units=[8, 1],\n",
    "    act_func_on_last_layer=False,\n",
    ")\n",
    "domain_disc = rul_adapt.model.FullyConnectedHead(\n",
    "    input_channels=8,\n",
    "    units=[8, 1],\n",
    "    act_func_on_last_layer=False,\n",
    ")\n",
    "\n",
    "dann = rul_adapt.approach.DannApproach(dann_factor=1.0, lr=0.001)\n",
    "dann.set_model(feature_extractor, regressor, domain_disc)\n",
    "\n",
    "trainer = pl.Trainer(max_epochs=1)\n",
    "\n",
    "trainer.fit(dann, dm)\n",
    "trainer.test(dann, dm)"
   ],
   "metadata": {
    "collapsed": false,
    "ExecuteTime": {
     "end_time": "2023-11-16T14:23:06.435668516Z",
     "start_time": "2023-11-16T14:22:50.016834545Z"
    }
   }
  }
 ],
 "metadata": {
  "kernelspec": {
   "display_name": "Python 3",
   "language": "python",
   "name": "python3"
  },
  "language_info": {
   "codemirror_mode": {
    "name": "ipython",
    "version": 2
   },
   "file_extension": ".py",
   "mimetype": "text/x-python",
   "name": "python",
   "nbconvert_exporter": "python",
   "pygments_lexer": "ipython2",
   "version": "2.7.6"
  }
 },
 "nbformat": 4,
 "nbformat_minor": 0
}
