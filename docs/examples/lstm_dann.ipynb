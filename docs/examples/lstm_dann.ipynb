{
 "cells": [
  {
   "cell_type": "markdown",
   "source": [
    "# LSTM DANN"
   ],
   "metadata": {
    "collapsed": false
   }
  },
  {
   "cell_type": "code",
   "execution_count": 9,
   "outputs": [],
   "source": [
    "import rul_adapt\n",
    "import rul_datasets\n",
    "import pytorch_lightning as pl\n",
    "import omegaconf"
   ],
   "metadata": {
    "collapsed": false,
    "ExecuteTime": {
     "end_time": "2023-06-13T14:14:41.060656652Z",
     "start_time": "2023-06-13T14:14:41.043970888Z"
    }
   }
  },
  {
   "cell_type": "markdown",
   "source": [
    "## Reproduce original configurations\n",
    "\n",
    "You can reproduce the original experiments of daCosta et al. by using the `get_lstm_dann` constructor function.\n",
    "Known differences to the original are:\n",
    "\n",
    "* a bigger validation split (20% instead of 10% of training data).\n",
    "\n",
    "In this example, we re-create configuration for adaption CMAPSS FD003 to FD001.\n",
    "Additional `kwargs` for the trainer, e.g. `accelerator=\"gpu\"` for training on a GPU, can be passed to this function, too."
   ],
   "metadata": {
    "collapsed": false
   }
  },
  {
   "cell_type": "code",
   "execution_count": 10,
   "outputs": [
    {
     "name": "stderr",
     "output_type": "stream",
     "text": [
      "Global seed set to 42\n",
      "GPU available: False, used: False\n",
      "TPU available: False, using: 0 TPU cores\n",
      "IPU available: False, using: 0 IPUs\n",
      "HPU available: False, using: 0 HPUs\n"
     ]
    }
   ],
   "source": [
    "pl.seed_everything(42, workers=True)  # make reproducible\n",
    "dm, dann, trainer = rul_adapt.construct.get_lstm_dann(3, 1, max_epochs=1)"
   ],
   "metadata": {
    "collapsed": false,
    "ExecuteTime": {
     "end_time": "2023-06-13T14:14:41.133754357Z",
     "start_time": "2023-06-13T14:14:41.047146422Z"
    }
   }
  },
  {
   "cell_type": "markdown",
   "source": [
    "The networks, `feature_extractor`, `regressor`, `domain_disc`, can be accessed as properties of the `dann` object."
   ],
   "metadata": {
    "collapsed": false
   }
  },
  {
   "cell_type": "code",
   "execution_count": 11,
   "outputs": [
    {
     "data": {
      "text/plain": "LstmExtractor(\n  (_lstm_layers): _Rnn(\n    (_layers): ModuleList(\n      (0): LSTM(24, 64)\n      (1): LSTM(64, 32)\n    )\n  )\n  (_fc_layer): Sequential(\n    (0): Dropout(p=0.3, inplace=False)\n    (1): Linear(in_features=32, out_features=128, bias=True)\n    (2): ReLU()\n  )\n)"
     },
     "execution_count": 11,
     "metadata": {},
     "output_type": "execute_result"
    }
   ],
   "source": [
    "dann.feature_extractor"
   ],
   "metadata": {
    "collapsed": false,
    "ExecuteTime": {
     "end_time": "2023-06-13T14:14:41.178079188Z",
     "start_time": "2023-06-13T14:14:41.136470723Z"
    }
   }
  },
  {
   "cell_type": "markdown",
   "source": [
    "Training is done in the PyTorch Lightning fashion.\n",
    "We used the `trainer_kwargs` to train only one epoch for demonstration purposes."
   ],
   "metadata": {
    "collapsed": false
   }
  },
  {
   "cell_type": "code",
   "execution_count": 12,
   "outputs": [
    {
     "name": "stderr",
     "output_type": "stream",
     "text": [
      "\n",
      "  | Name               | Type                  | Params\n",
      "-------------------------------------------------------------\n",
      "0 | train_source_loss  | MeanAbsoluteError     | 0     \n",
      "1 | evaluator          | AdaptionEvaluator     | 0     \n",
      "2 | _feature_extractor | LstmExtractor         | 39.8 K\n",
      "3 | _regressor         | FullyConnectedHead    | 5.2 K \n",
      "4 | dann_loss          | DomainAdversarialLoss | 5.2 K \n",
      "-------------------------------------------------------------\n",
      "50.2 K    Trainable params\n",
      "0         Non-trainable params\n",
      "50.2 K    Total params\n",
      "0.201     Total estimated model params size (MB)\n"
     ]
    },
    {
     "data": {
      "text/plain": "Sanity Checking: 0it [00:00, ?it/s]",
      "application/vnd.jupyter.widget-view+json": {
       "version_major": 2,
       "version_minor": 0,
       "model_id": "2c1873a270e74b5783d08f096409c43c"
      }
     },
     "metadata": {},
     "output_type": "display_data"
    },
    {
     "data": {
      "text/plain": "Training: 0it [00:00, ?it/s]",
      "application/vnd.jupyter.widget-view+json": {
       "version_major": 2,
       "version_minor": 0,
       "model_id": "0ccc536be0a743b9aa3bddb456b10dcd"
      }
     },
     "metadata": {},
     "output_type": "display_data"
    },
    {
     "data": {
      "text/plain": "Validation: 0it [00:00, ?it/s]",
      "application/vnd.jupyter.widget-view+json": {
       "version_major": 2,
       "version_minor": 0,
       "model_id": "72c320e5118346a882c01842115a2fdb"
      }
     },
     "metadata": {},
     "output_type": "display_data"
    },
    {
     "name": "stderr",
     "output_type": "stream",
     "text": [
      "`Trainer.fit` stopped: `max_epochs=1` reached.\n",
      "Restoring states from the checkpoint path at /home/tilman/Programming/rul-adapt/examples/lightning_logs/version_85/checkpoints/epoch=0-step=69.ckpt\n",
      "Loaded model weights from checkpoint at /home/tilman/Programming/rul-adapt/examples/lightning_logs/version_85/checkpoints/epoch=0-step=69.ckpt\n"
     ]
    },
    {
     "data": {
      "text/plain": "Testing: 0it [00:00, ?it/s]",
      "application/vnd.jupyter.widget-view+json": {
       "version_major": 2,
       "version_minor": 0,
       "model_id": "34a277983ca2477c855c286a2a25420d"
      }
     },
     "metadata": {},
     "output_type": "display_data"
    },
    {
     "name": "stdout",
     "output_type": "stream",
     "text": [
      "────────────────────────────────────────────────────────────────────────────────────────────────────────────────────────\n",
      "       Test metric             DataLoader 0             DataLoader 1\n",
      "────────────────────────────────────────────────────────────────────────────────────────────────────────────────────────\n",
      "    test/source/rmse         18.77626609802246\n",
      "    test/source/score        1339.245849609375\n",
      "    test/target/rmse                                  25.87474250793457\n",
      "    test/target/score                                 5579.28662109375\n",
      "────────────────────────────────────────────────────────────────────────────────────────────────────────────────────────\n"
     ]
    },
    {
     "data": {
      "text/plain": "[{'test/source/rmse/dataloader_idx_0': 18.77626609802246,\n  'test/source/score/dataloader_idx_0': 1339.245849609375},\n {'test/target/rmse/dataloader_idx_1': 25.87474250793457,\n  'test/target/score/dataloader_idx_1': 5579.28662109375}]"
     },
     "execution_count": 12,
     "metadata": {},
     "output_type": "execute_result"
    }
   ],
   "source": [
    "trainer.fit(dann, dm)\n",
    "trainer.test(ckpt_path=\"best\", datamodule=dm) # loads the best model checkpoint"
   ],
   "metadata": {
    "collapsed": false,
    "ExecuteTime": {
     "end_time": "2023-06-13T14:14:51.829369918Z",
     "start_time": "2023-06-13T14:14:41.177743160Z"
    }
   }
  },
  {
   "cell_type": "markdown",
   "source": [
    "If you only want to see the hyperparameters, you can use the `get_lstm_dann_config` function.\n",
    "This returns an `omegeconf.DictConfig` which you can modify."
   ],
   "metadata": {
    "collapsed": false
   }
  },
  {
   "cell_type": "code",
   "execution_count": 13,
   "outputs": [
    {
     "name": "stdout",
     "output_type": "stream",
     "text": [
      "dm:\n",
      "  source:\n",
      "    _target_: rul_datasets.CmapssReader\n",
      "    fd: 3\n",
      "    feature_select:\n",
      "    - 0\n",
      "    - 1\n",
      "    - 2\n",
      "    - 3\n",
      "    - 4\n",
      "    - 5\n",
      "    - 6\n",
      "    - 7\n",
      "    - 8\n",
      "    - 9\n",
      "    - 10\n",
      "    - 11\n",
      "    - 12\n",
      "    - 13\n",
      "    - 14\n",
      "    - 15\n",
      "    - 16\n",
      "    - 17\n",
      "    - 18\n",
      "    - 19\n",
      "    - 20\n",
      "    - 21\n",
      "    - 22\n",
      "    - 23\n",
      "  target:\n",
      "    fd: 1\n",
      "    percent_broken: 1.0\n",
      "  batch_size: 256\n",
      "feature_extractor:\n",
      "  _target_: rul_adapt.model.LstmExtractor\n",
      "  input_channels: 24\n",
      "  lstm_units:\n",
      "  - 64\n",
      "  - 32\n",
      "  fc_units: 128\n",
      "  lstm_dropout: 0.3\n",
      "  fc_dropout: 0.3\n",
      "regressor:\n",
      "  _target_: rul_adapt.model.FullyConnectedHead\n",
      "  input_channels: 128\n",
      "  act_func_on_last_layer: false\n",
      "  units:\n",
      "  - 32\n",
      "  - 32\n",
      "  - 1\n",
      "  dropout: 0.1\n",
      "domain_disc:\n",
      "  _target_: rul_adapt.model.FullyConnectedHead\n",
      "  input_channels: 128\n",
      "  act_func_on_last_layer: false\n",
      "  units:\n",
      "  - 32\n",
      "  - 32\n",
      "  - 1\n",
      "  dropout: 0.1\n",
      "dann:\n",
      "  _target_: rul_adapt.approach.DannApproach\n",
      "  scheduler_type: step\n",
      "  scheduler_gamma: 0.1\n",
      "  scheduler_step_size: 100\n",
      "  dann_factor: 2.0\n",
      "  lr: 0.01\n",
      "  optim_weight_decay: 0.01\n",
      "trainer:\n",
      "  _target_: pytorch_lightning.Trainer\n",
      "  max_epochs: 200\n",
      "  gradient_clip_val: 1.0\n",
      "  callbacks:\n",
      "  - _target_: pytorch_lightning.callbacks.EarlyStopping\n",
      "    monitor: val/target/rmse/dataloader_idx_1\n",
      "    patience: 20\n",
      "  - _target_: pytorch_lightning.callbacks.ModelCheckpoint\n",
      "    save_top_k: 1\n",
      "    monitor: val/target/rmse/dataloader_idx_1\n",
      "    mode: min\n",
      "\n"
     ]
    }
   ],
   "source": [
    "three2one_config = rul_adapt.construct.get_lstm_dann_config(3, 1)\n",
    "print(omegaconf.OmegaConf.to_yaml(three2one_config, resolve=True))"
   ],
   "metadata": {
    "collapsed": false,
    "ExecuteTime": {
     "end_time": "2023-06-13T14:14:51.871478348Z",
     "start_time": "2023-06-13T14:14:51.828746584Z"
    }
   }
  },
  {
   "cell_type": "markdown",
   "source": [
    "## Run your own experiments\n",
    "\n",
    "You can use the LSTM DANN implementation to run your own experiments with different hyperparameters or on different datasets.\n",
    "Here we build a smaller LSTM DANN version for CMAPSS."
   ],
   "metadata": {
    "collapsed": false
   }
  },
  {
   "cell_type": "code",
   "execution_count": 14,
   "outputs": [
    {
     "name": "stderr",
     "output_type": "stream",
     "text": [
      "GPU available: False, used: False\n",
      "TPU available: False, using: 0 TPU cores\n",
      "IPU available: False, using: 0 IPUs\n",
      "HPU available: False, using: 0 HPUs\n",
      "\n",
      "  | Name               | Type                  | Params\n",
      "-------------------------------------------------------------\n",
      "0 | train_source_loss  | MeanAbsoluteError     | 0     \n",
      "1 | evaluator          | AdaptionEvaluator     | 0     \n",
      "2 | _feature_extractor | LstmExtractor         | 2.2 K \n",
      "3 | _regressor         | FullyConnectedHead    | 81    \n",
      "4 | dann_loss          | DomainAdversarialLoss | 81    \n",
      "-------------------------------------------------------------\n",
      "2.3 K     Trainable params\n",
      "0         Non-trainable params\n",
      "2.3 K     Total params\n",
      "0.009     Total estimated model params size (MB)\n"
     ]
    },
    {
     "data": {
      "text/plain": "Sanity Checking: 0it [00:00, ?it/s]",
      "application/vnd.jupyter.widget-view+json": {
       "version_major": 2,
       "version_minor": 0,
       "model_id": "f3c1903eed794414a7e6bc3a8edca570"
      }
     },
     "metadata": {},
     "output_type": "display_data"
    },
    {
     "data": {
      "text/plain": "Training: 0it [00:00, ?it/s]",
      "application/vnd.jupyter.widget-view+json": {
       "version_major": 2,
       "version_minor": 0,
       "model_id": "3b8effa5b57a44509556c512812f5073"
      }
     },
     "metadata": {},
     "output_type": "display_data"
    },
    {
     "data": {
      "text/plain": "Validation: 0it [00:00, ?it/s]",
      "application/vnd.jupyter.widget-view+json": {
       "version_major": 2,
       "version_minor": 0,
       "model_id": "fbfc58daacce461293647f876bad67c1"
      }
     },
     "metadata": {},
     "output_type": "display_data"
    },
    {
     "name": "stderr",
     "output_type": "stream",
     "text": [
      "`Trainer.fit` stopped: `max_epochs=1` reached.\n"
     ]
    },
    {
     "data": {
      "text/plain": "Testing: 0it [00:00, ?it/s]",
      "application/vnd.jupyter.widget-view+json": {
       "version_major": 2,
       "version_minor": 0,
       "model_id": "6c2d3fe049064cf988e61d9755b6a2c1"
      }
     },
     "metadata": {},
     "output_type": "display_data"
    },
    {
     "name": "stdout",
     "output_type": "stream",
     "text": [
      "────────────────────────────────────────────────────────────────────────────────────────────────────────────────────────\n",
      "       Test metric             DataLoader 0             DataLoader 1\n",
      "────────────────────────────────────────────────────────────────────────────────────────────────────────────────────────\n",
      "    test/source/rmse        21.148601531982422\n",
      "    test/source/score        902.5635375976562\n",
      "    test/target/rmse                                 20.427507400512695\n",
      "    test/target/score                                 624.9207153320312\n",
      "────────────────────────────────────────────────────────────────────────────────────────────────────────────────────────\n"
     ]
    },
    {
     "data": {
      "text/plain": "[{'test/source/rmse/dataloader_idx_0': 21.148601531982422,\n  'test/source/score/dataloader_idx_0': 902.5635375976562},\n {'test/target/rmse/dataloader_idx_1': 20.427507400512695,\n  'test/target/score/dataloader_idx_1': 624.9207153320312}]"
     },
     "execution_count": 14,
     "metadata": {},
     "output_type": "execute_result"
    }
   ],
   "source": [
    "source = rul_datasets.CmapssReader(3)\n",
    "target = source.get_compatible(1, percent_broken=0.8)\n",
    "dm = rul_datasets.DomainAdaptionDataModule(\n",
    "    rul_datasets.RulDataModule(source, batch_size=32),\n",
    "    rul_datasets.RulDataModule(target, batch_size=32),\n",
    ")\n",
    "\n",
    "feature_extractor = rul_adapt.model.LstmExtractor(\n",
    "    input_channels=14,\n",
    "    lstm_units=[16],\n",
    "    fc_units=8,\n",
    ")\n",
    "regressor = rul_adapt.model.FullyConnectedHead(\n",
    "    input_channels=8,\n",
    "    units=[8, 1],\n",
    "    act_func_on_last_layer=False,\n",
    ")\n",
    "domain_disc = rul_adapt.model.FullyConnectedHead(\n",
    "    input_channels=8,\n",
    "    units=[8, 1],\n",
    "    act_func_on_last_layer=False,\n",
    ")\n",
    "\n",
    "dann = rul_adapt.approach.DannApproach(dann_factor=1.0, lr=0.001)\n",
    "dann.set_model(feature_extractor, regressor, domain_disc)\n",
    "\n",
    "trainer = pl.Trainer(max_epochs=1)\n",
    "\n",
    "trainer.fit(dann, dm)\n",
    "trainer.test(dann, dm)"
   ],
   "metadata": {
    "collapsed": false,
    "ExecuteTime": {
     "end_time": "2023-06-13T14:15:08.336028932Z",
     "start_time": "2023-06-13T14:14:51.877259924Z"
    }
   }
  }
 ],
 "metadata": {
  "kernelspec": {
   "display_name": "Python 3",
   "language": "python",
   "name": "python3"
  },
  "language_info": {
   "codemirror_mode": {
    "name": "ipython",
    "version": 2
   },
   "file_extension": ".py",
   "mimetype": "text/x-python",
   "name": "python",
   "nbconvert_exporter": "python",
   "pygments_lexer": "ipython2",
   "version": "2.7.6"
  }
 },
 "nbformat": 4,
 "nbformat_minor": 0
}
