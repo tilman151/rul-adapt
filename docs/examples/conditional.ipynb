{
 "cells": [
  {
   "cell_type": "markdown",
   "metadata": {},
   "source": [
    "# Conditional Adaption Approach"
   ]
  },
  {
   "cell_type": "code",
   "execution_count": 1,
   "metadata": {
    "collapsed": true,
    "ExecuteTime": {
     "end_time": "2023-06-13T14:00:31.332977439Z",
     "start_time": "2023-06-13T14:00:29.840459905Z"
    }
   },
   "outputs": [],
   "source": [
    "import numpy as np\n",
    "import pytorch_lightning as pl\n",
    "import rul_datasets\n",
    "\n",
    "import rul_adapt"
   ]
  },
  {
   "cell_type": "markdown",
   "metadata": {},
   "source": [
    "The conditional adaption approaches are variants of the MMD and DANN approaches.\n",
    "In addition to applying their adaption loss to the whole data, they also apply it separately to pre-defined subsets.\n",
    "Each subset represents a different condition and is defined by a fuzzy set with a rectangular membership function.\n",
    "\n",
    "In the original paper, three subsets are defined based on the RUL values of the source domain.\n",
    "The first fuzzy set contains healthy data which has a RUL value smaller than the median.\n",
    "The second fuzzy set contains degrading data with a RUL value between the 25th and 75th percentile.\n",
    "The last fuzzy set contains faulty data with a RUL value larger than the median.\n",
    "These sets are overlapping by design to take the uncertainty of sample membership into account.\n",
    "\n",
    "We will extract the fuzzy sets' boundaries from the training split of CMAPSS FD003."
   ]
  },
  {
   "cell_type": "code",
   "execution_count": 2,
   "metadata": {
    "ExecuteTime": {
     "end_time": "2023-06-13T14:00:31.394110771Z",
     "start_time": "2023-06-13T14:00:31.333773993Z"
    }
   },
   "outputs": [
    {
     "name": "stdout",
     "output_type": "stream",
     "text": [
      "[(125, 110.0), (55.0, 125.0), (110.0, 0.0)]\n"
     ]
    }
   ],
   "source": [
    "fd3 = rul_datasets.CmapssReader(3)\n",
    "_, targets = fd3.load_split(\"dev\")\n",
    "targets = np.concatenate(targets) # combine all runs\n",
    "median = np.median(targets)\n",
    "lower_quart = np.quantile(targets, 0.25)\n",
    "upper_quart = np.quantile(targets, 0.75)\n",
    "\n",
    "fuzzy_sets = [(fd3.max_rul, median), (lower_quart, upper_quart), (median, 0.0)]\n",
    "print(fuzzy_sets)"
   ]
  },
  {
   "cell_type": "markdown",
   "metadata": {},
   "source": [
    "Now, we can use these fuzzy sets to adapt FD003 to FD001 with conditional MMD.\n",
    "First, we define the adaption data module."
   ]
  },
  {
   "cell_type": "code",
   "execution_count": 3,
   "metadata": {
    "ExecuteTime": {
     "end_time": "2023-06-13T14:00:31.398829541Z",
     "start_time": "2023-06-13T14:00:31.396567118Z"
    }
   },
   "outputs": [],
   "source": [
    "fd1 = rul_datasets.CmapssReader(1, percent_broken=0.8)\n",
    "dm = rul_datasets.DomainAdaptionDataModule(\n",
    "    rul_datasets.RulDataModule(fd3, batch_size=128),\n",
    "    rul_datasets.RulDataModule(fd1, batch_size=128)\n",
    ")"
   ]
  },
  {
   "cell_type": "markdown",
   "metadata": {},
   "source": [
    "Next, we instantiate a conditional MMD approach with a simple CNN feature extractor."
   ]
  },
  {
   "cell_type": "code",
   "execution_count": 4,
   "metadata": {
    "ExecuteTime": {
     "end_time": "2023-06-13T14:00:31.443813227Z",
     "start_time": "2023-06-13T14:00:31.402258483Z"
    }
   },
   "outputs": [],
   "source": [
    "feature_extractor = rul_adapt.model.CnnExtractor(14, [16, 32], 30, fc_units=64)\n",
    "regressor = rul_adapt.model.FullyConnectedHead(\n",
    "    64, [1], act_func_on_last_layer=False\n",
    ")\n",
    "\n",
    "approach = rul_adapt.approach.ConditionalMmdApproach(\n",
    "    lr=0.001,\n",
    "    mmd_factor=1.0,\n",
    "    num_mmd_kernels=5,\n",
    "    dynamic_adaptive_factor=0.5,\n",
    "    fuzzy_sets=fuzzy_sets\n",
    ")\n",
    "approach.set_model(feature_extractor, regressor)"
   ]
  },
  {
   "cell_type": "markdown",
   "metadata": {},
   "source": [
    "We train the approach for 10 epochs and evaluate it on the test split of FD001."
   ]
  },
  {
   "cell_type": "code",
   "execution_count": 5,
   "metadata": {
    "ExecuteTime": {
     "end_time": "2023-06-13T14:01:46.050659798Z",
     "start_time": "2023-06-13T14:00:31.443604088Z"
    }
   },
   "outputs": [
    {
     "name": "stderr",
     "output_type": "stream",
     "text": [
      "GPU available: False, used: False\n",
      "TPU available: False, using: 0 TPU cores\n",
      "IPU available: False, using: 0 IPUs\n",
      "HPU available: False, using: 0 HPUs\n",
      "\n",
      "  | Name                 | Type                       | Params\n",
      "--------------------------------------------------------------------\n",
      "0 | train_source_loss    | MeanAbsoluteError          | 0     \n",
      "1 | mmd_loss             | MaximumMeanDiscrepancyLoss | 0     \n",
      "2 | conditional_mmd_loss | ConditionalAdaptionLoss    | 0     \n",
      "3 | evaluator            | AdaptionEvaluator          | 0     \n",
      "4 | _feature_extractor   | CnnExtractor               | 55.6 K\n",
      "5 | _regressor           | FullyConnectedHead         | 65    \n",
      "--------------------------------------------------------------------\n",
      "55.6 K    Trainable params\n",
      "0         Non-trainable params\n",
      "55.6 K    Total params\n",
      "0.223     Total estimated model params size (MB)\n"
     ]
    },
    {
     "data": {
      "text/plain": "Sanity Checking: 0it [00:00, ?it/s]",
      "application/vnd.jupyter.widget-view+json": {
       "version_major": 2,
       "version_minor": 0,
       "model_id": "eee0073775c6400e9598ce2f87b1b348"
      }
     },
     "metadata": {},
     "output_type": "display_data"
    },
    {
     "data": {
      "text/plain": "Training: 0it [00:00, ?it/s]",
      "application/vnd.jupyter.widget-view+json": {
       "version_major": 2,
       "version_minor": 0,
       "model_id": "e44b8a4f8b4d4096ab1ad7b520c3c0b0"
      }
     },
     "metadata": {},
     "output_type": "display_data"
    },
    {
     "data": {
      "text/plain": "Validation: 0it [00:00, ?it/s]",
      "application/vnd.jupyter.widget-view+json": {
       "version_major": 2,
       "version_minor": 0,
       "model_id": "76501587194d45ac8182b7388ac76b92"
      }
     },
     "metadata": {},
     "output_type": "display_data"
    },
    {
     "data": {
      "text/plain": "Validation: 0it [00:00, ?it/s]",
      "application/vnd.jupyter.widget-view+json": {
       "version_major": 2,
       "version_minor": 0,
       "model_id": "aac70ae4f4764d498efa34d123d101f1"
      }
     },
     "metadata": {},
     "output_type": "display_data"
    },
    {
     "data": {
      "text/plain": "Validation: 0it [00:00, ?it/s]",
      "application/vnd.jupyter.widget-view+json": {
       "version_major": 2,
       "version_minor": 0,
       "model_id": "793585a3327f46fea66ec2a9c4576f77"
      }
     },
     "metadata": {},
     "output_type": "display_data"
    },
    {
     "data": {
      "text/plain": "Validation: 0it [00:00, ?it/s]",
      "application/vnd.jupyter.widget-view+json": {
       "version_major": 2,
       "version_minor": 0,
       "model_id": "2a65e38aa5a549c99d6358bcf34e657f"
      }
     },
     "metadata": {},
     "output_type": "display_data"
    },
    {
     "data": {
      "text/plain": "Validation: 0it [00:00, ?it/s]",
      "application/vnd.jupyter.widget-view+json": {
       "version_major": 2,
       "version_minor": 0,
       "model_id": "3981ca421004439d8384aee6ad76303d"
      }
     },
     "metadata": {},
     "output_type": "display_data"
    },
    {
     "data": {
      "text/plain": "Validation: 0it [00:00, ?it/s]",
      "application/vnd.jupyter.widget-view+json": {
       "version_major": 2,
       "version_minor": 0,
       "model_id": "28e98cbecec247c5b0dd870f7d80be1c"
      }
     },
     "metadata": {},
     "output_type": "display_data"
    },
    {
     "data": {
      "text/plain": "Validation: 0it [00:00, ?it/s]",
      "application/vnd.jupyter.widget-view+json": {
       "version_major": 2,
       "version_minor": 0,
       "model_id": "719493a54be84fc7a8cb5159864c5c66"
      }
     },
     "metadata": {},
     "output_type": "display_data"
    },
    {
     "data": {
      "text/plain": "Validation: 0it [00:00, ?it/s]",
      "application/vnd.jupyter.widget-view+json": {
       "version_major": 2,
       "version_minor": 0,
       "model_id": "4bd80cb95ae24cd9ae5ef543e7bbb374"
      }
     },
     "metadata": {},
     "output_type": "display_data"
    },
    {
     "data": {
      "text/plain": "Validation: 0it [00:00, ?it/s]",
      "application/vnd.jupyter.widget-view+json": {
       "version_major": 2,
       "version_minor": 0,
       "model_id": "4cc911c1ce9046cdb4d59e78d8908f87"
      }
     },
     "metadata": {},
     "output_type": "display_data"
    },
    {
     "data": {
      "text/plain": "Validation: 0it [00:00, ?it/s]",
      "application/vnd.jupyter.widget-view+json": {
       "version_major": 2,
       "version_minor": 0,
       "model_id": "c6a6075702fa4bbf9c8a8ac67503001e"
      }
     },
     "metadata": {},
     "output_type": "display_data"
    },
    {
     "name": "stderr",
     "output_type": "stream",
     "text": [
      "`Trainer.fit` stopped: `max_epochs=10` reached.\n"
     ]
    },
    {
     "data": {
      "text/plain": "Testing: 0it [00:00, ?it/s]",
      "application/vnd.jupyter.widget-view+json": {
       "version_major": 2,
       "version_minor": 0,
       "model_id": "31916e6501fb4d7ab5ccba691acd6307"
      }
     },
     "metadata": {},
     "output_type": "display_data"
    },
    {
     "name": "stdout",
     "output_type": "stream",
     "text": [
      "────────────────────────────────────────────────────────────────────────────────────────────────────────────────────────\n",
      "       Test metric             DataLoader 0             DataLoader 1\n",
      "────────────────────────────────────────────────────────────────────────────────────────────────────────────────────────\n",
      "    test/source/rmse        16.809019088745117\n",
      "    test/source/score       1181.4722900390625\n",
      "    test/target/rmse                                  39.89452362060547\n",
      "    test/target/score                                   333241.28125\n",
      "────────────────────────────────────────────────────────────────────────────────────────────────────────────────────────\n"
     ]
    },
    {
     "data": {
      "text/plain": "[{'test/source/rmse/dataloader_idx_0': 16.809019088745117,\n  'test/source/score/dataloader_idx_0': 1181.4722900390625},\n {'test/target/rmse/dataloader_idx_1': 39.89452362060547,\n  'test/target/score/dataloader_idx_1': 333241.28125}]"
     },
     "execution_count": 5,
     "metadata": {},
     "output_type": "execute_result"
    }
   ],
   "source": [
    "trainer = pl.Trainer(max_epochs=10)\n",
    "trainer.fit(approach, dm)\n",
    "trainer.test(approach, dm)"
   ]
  },
  {
   "cell_type": "markdown",
   "metadata": {},
   "source": [
    "We can also use the conditional DANN approach.\n",
    "This will use the same feature extractor and regressor as before and an additional domain discriminator.\n",
    "The discriminator network will be copied for each fuzzy set."
   ]
  },
  {
   "cell_type": "code",
   "execution_count": 6,
   "metadata": {
    "ExecuteTime": {
     "end_time": "2023-06-13T14:01:46.050900749Z",
     "start_time": "2023-06-13T14:01:46.049884492Z"
    }
   },
   "outputs": [],
   "source": [
    "feature_extractor = rul_adapt.model.CnnExtractor(14, [16, 32], 30, fc_units=64)\n",
    "regressor = rul_adapt.model.FullyConnectedHead(\n",
    "    64, [1], act_func_on_last_layer=False\n",
    ")\n",
    "domain_disc = rul_adapt.model.FullyConnectedHead(\n",
    "    64, [1], act_func_on_last_layer=False\n",
    ")\n",
    "\n",
    "approach = rul_adapt.approach.ConditionalDannApproach(\n",
    "    lr=0.001,\n",
    "    dann_factor=1.0,\n",
    "    dynamic_adaptive_factor=0.5,\n",
    "    fuzzy_sets=fuzzy_sets\n",
    ")\n",
    "approach.set_model(feature_extractor, regressor, domain_disc)"
   ]
  },
  {
   "cell_type": "markdown",
   "metadata": {},
   "source": [
    "Again, we will train for 10 epochs and evaluate on the test split of FD001."
   ]
  },
  {
   "cell_type": "code",
   "execution_count": 7,
   "metadata": {
    "ExecuteTime": {
     "end_time": "2023-06-13T14:02:20.566404553Z",
     "start_time": "2023-06-13T14:01:46.050326407Z"
    }
   },
   "outputs": [
    {
     "name": "stderr",
     "output_type": "stream",
     "text": [
      "GPU available: False, used: False\n",
      "TPU available: False, using: 0 TPU cores\n",
      "IPU available: False, using: 0 IPUs\n",
      "HPU available: False, using: 0 HPUs\n",
      "\n",
      "  | Name                  | Type                    | Params\n",
      "------------------------------------------------------------------\n",
      "0 | train_source_loss     | MeanAbsoluteError       | 0     \n",
      "1 | evaluator             | AdaptionEvaluator       | 0     \n",
      "2 | _feature_extractor    | CnnExtractor            | 55.6 K\n",
      "3 | _regressor            | FullyConnectedHead      | 65    \n",
      "4 | dann_loss             | DomainAdversarialLoss   | 65    \n",
      "5 | conditional_dann_loss | ConditionalAdaptionLoss | 195   \n",
      "------------------------------------------------------------------\n",
      "55.9 K    Trainable params\n",
      "0         Non-trainable params\n",
      "55.9 K    Total params\n",
      "0.224     Total estimated model params size (MB)\n"
     ]
    },
    {
     "data": {
      "text/plain": "Sanity Checking: 0it [00:00, ?it/s]",
      "application/vnd.jupyter.widget-view+json": {
       "version_major": 2,
       "version_minor": 0,
       "model_id": "7d4462a013244c3280d39663cf7b7979"
      }
     },
     "metadata": {},
     "output_type": "display_data"
    },
    {
     "data": {
      "text/plain": "Training: 0it [00:00, ?it/s]",
      "application/vnd.jupyter.widget-view+json": {
       "version_major": 2,
       "version_minor": 0,
       "model_id": "fcbfe6fdddd94f26971481f6b5d8f20c"
      }
     },
     "metadata": {},
     "output_type": "display_data"
    },
    {
     "data": {
      "text/plain": "Validation: 0it [00:00, ?it/s]",
      "application/vnd.jupyter.widget-view+json": {
       "version_major": 2,
       "version_minor": 0,
       "model_id": "b3481a92c7094e228b82927f2333f2a1"
      }
     },
     "metadata": {},
     "output_type": "display_data"
    },
    {
     "data": {
      "text/plain": "Validation: 0it [00:00, ?it/s]",
      "application/vnd.jupyter.widget-view+json": {
       "version_major": 2,
       "version_minor": 0,
       "model_id": "cf7ddc76a6fb4d0fbc782a7cb0f0bf0d"
      }
     },
     "metadata": {},
     "output_type": "display_data"
    },
    {
     "data": {
      "text/plain": "Validation: 0it [00:00, ?it/s]",
      "application/vnd.jupyter.widget-view+json": {
       "version_major": 2,
       "version_minor": 0,
       "model_id": "89e8a70d18794547b8fd5321fb177d6c"
      }
     },
     "metadata": {},
     "output_type": "display_data"
    },
    {
     "data": {
      "text/plain": "Validation: 0it [00:00, ?it/s]",
      "application/vnd.jupyter.widget-view+json": {
       "version_major": 2,
       "version_minor": 0,
       "model_id": "330f35433fe14918b4d18f7bbb2d9088"
      }
     },
     "metadata": {},
     "output_type": "display_data"
    },
    {
     "data": {
      "text/plain": "Validation: 0it [00:00, ?it/s]",
      "application/vnd.jupyter.widget-view+json": {
       "version_major": 2,
       "version_minor": 0,
       "model_id": "3417aab5432746ca8fe70add563ca163"
      }
     },
     "metadata": {},
     "output_type": "display_data"
    },
    {
     "data": {
      "text/plain": "Validation: 0it [00:00, ?it/s]",
      "application/vnd.jupyter.widget-view+json": {
       "version_major": 2,
       "version_minor": 0,
       "model_id": "7827fa8fcd6c4cf2a748a3cc8e432eb2"
      }
     },
     "metadata": {},
     "output_type": "display_data"
    },
    {
     "data": {
      "text/plain": "Validation: 0it [00:00, ?it/s]",
      "application/vnd.jupyter.widget-view+json": {
       "version_major": 2,
       "version_minor": 0,
       "model_id": "81ca33e44ff941109a555f67bbce3066"
      }
     },
     "metadata": {},
     "output_type": "display_data"
    },
    {
     "data": {
      "text/plain": "Validation: 0it [00:00, ?it/s]",
      "application/vnd.jupyter.widget-view+json": {
       "version_major": 2,
       "version_minor": 0,
       "model_id": "31cff87560774104837156816660948e"
      }
     },
     "metadata": {},
     "output_type": "display_data"
    },
    {
     "data": {
      "text/plain": "Validation: 0it [00:00, ?it/s]",
      "application/vnd.jupyter.widget-view+json": {
       "version_major": 2,
       "version_minor": 0,
       "model_id": "b79fae3399154a4b945486983f6f2885"
      }
     },
     "metadata": {},
     "output_type": "display_data"
    },
    {
     "data": {
      "text/plain": "Validation: 0it [00:00, ?it/s]",
      "application/vnd.jupyter.widget-view+json": {
       "version_major": 2,
       "version_minor": 0,
       "model_id": "13f3266d7758408fb44063b3ee110ec1"
      }
     },
     "metadata": {},
     "output_type": "display_data"
    },
    {
     "name": "stderr",
     "output_type": "stream",
     "text": [
      "`Trainer.fit` stopped: `max_epochs=10` reached.\n"
     ]
    },
    {
     "data": {
      "text/plain": "Testing: 0it [00:00, ?it/s]",
      "application/vnd.jupyter.widget-view+json": {
       "version_major": 2,
       "version_minor": 0,
       "model_id": "a05b6cec64d14984b396008712fdb37e"
      }
     },
     "metadata": {},
     "output_type": "display_data"
    },
    {
     "name": "stdout",
     "output_type": "stream",
     "text": [
      "────────────────────────────────────────────────────────────────────────────────────────────────────────────────────────\n",
      "       Test metric             DataLoader 0             DataLoader 1\n",
      "────────────────────────────────────────────────────────────────────────────────────────────────────────────────────────\n",
      "    test/source/rmse        17.359193801879883\n",
      "    test/source/score       1076.8475341796875\n",
      "    test/target/rmse                                  25.01502799987793\n",
      "    test/target/score                                 7174.01806640625\n",
      "────────────────────────────────────────────────────────────────────────────────────────────────────────────────────────\n"
     ]
    },
    {
     "data": {
      "text/plain": "[{'test/source/rmse/dataloader_idx_0': 17.359193801879883,\n  'test/source/score/dataloader_idx_0': 1076.8475341796875},\n {'test/target/rmse/dataloader_idx_1': 25.01502799987793,\n  'test/target/score/dataloader_idx_1': 7174.01806640625}]"
     },
     "execution_count": 7,
     "metadata": {},
     "output_type": "execute_result"
    }
   ],
   "source": [
    "trainer = pl.Trainer(max_epochs=10)\n",
    "trainer.fit(approach, dm)\n",
    "trainer.test(approach, dm)"
   ]
  }
 ],
 "metadata": {
  "kernelspec": {
   "display_name": "Python 3 (ipykernel)",
   "language": "python",
   "name": "python3"
  },
  "language_info": {
   "codemirror_mode": {
    "name": "ipython",
    "version": 3
   },
   "file_extension": ".py",
   "mimetype": "text/x-python",
   "name": "python",
   "nbconvert_exporter": "python",
   "pygments_lexer": "ipython3",
   "version": "3.8.14"
  }
 },
 "nbformat": 4,
 "nbformat_minor": 1
}
