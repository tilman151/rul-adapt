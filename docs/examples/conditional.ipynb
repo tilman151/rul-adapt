{
 "cells": [
  {
   "cell_type": "markdown",
   "metadata": {},
   "source": [
    "# Conditional Adaption Approach"
   ]
  },
  {
   "cell_type": "code",
   "execution_count": 8,
   "metadata": {
    "collapsed": true,
    "ExecuteTime": {
     "end_time": "2023-11-16T14:32:09.121530907Z",
     "start_time": "2023-11-16T14:32:09.084438423Z"
    }
   },
   "outputs": [],
   "source": [
    "import numpy as np\n",
    "import pytorch_lightning as pl\n",
    "import rul_datasets\n",
    "\n",
    "import rul_adapt"
   ]
  },
  {
   "cell_type": "markdown",
   "metadata": {},
   "source": [
    "The conditional adaption approaches are variants of the MMD and DANN approaches.\n",
    "In addition to applying their adaption loss to the whole data, they also apply it separately to pre-defined subsets.\n",
    "Each subset represents a different condition and is defined by a fuzzy set with a rectangular membership function.\n",
    "\n",
    "In the original paper, three subsets are defined based on the RUL values of the source domain.\n",
    "The first fuzzy set contains healthy data which has a RUL value smaller than the median.\n",
    "The second fuzzy set contains degrading data with a RUL value between the 25th and 75th percentile.\n",
    "The last fuzzy set contains faulty data with a RUL value larger than the median.\n",
    "These sets are overlapping by design to take the uncertainty of sample membership into account.\n",
    "\n",
    "We will extract the fuzzy sets' boundaries from the training split of CMAPSS FD003."
   ]
  },
  {
   "cell_type": "code",
   "execution_count": null,
   "metadata": {
    "is_executing": true,
    "ExecuteTime": {
     "start_time": "2023-11-16T14:32:09.094303494Z"
    }
   },
   "outputs": [
    {
     "name": "stdout",
     "output_type": "stream",
     "text": [
      "[(110.0, 125), (55.0, 125.0), (0.0, 110.0)]\n"
     ]
    }
   ],
   "source": [
    "fd3 = rul_datasets.CmapssReader(3)\n",
    "_, targets = fd3.load_split(\"dev\")\n",
    "targets = np.concatenate(targets) # combine all runs\n",
    "median = np.median(targets)\n",
    "lower_quart = np.quantile(targets, 0.25)\n",
    "upper_quart = np.quantile(targets, 0.75)\n",
    "\n",
    "fuzzy_sets = [(median, fd3.max_rul), (lower_quart, upper_quart), (0.0, median)]\n",
    "print(fuzzy_sets)"
   ]
  },
  {
   "cell_type": "markdown",
   "metadata": {},
   "source": [
    "Now, we can use these fuzzy sets to adapt FD003 to FD001 with conditional MMD.\n",
    "First, we define the adaption data module."
   ]
  },
  {
   "cell_type": "code",
   "execution_count": null,
   "metadata": {
    "is_executing": true,
    "ExecuteTime": {
     "start_time": "2023-11-16T14:32:09.187582789Z"
    }
   },
   "outputs": [],
   "source": [
    "fd1 = rul_datasets.CmapssReader(1, percent_broken=0.8)\n",
    "dm = rul_datasets.DomainAdaptionDataModule(\n",
    "    rul_datasets.RulDataModule(fd3, batch_size=128),\n",
    "    rul_datasets.RulDataModule(fd1, batch_size=128)\n",
    ")"
   ]
  },
  {
   "cell_type": "markdown",
   "metadata": {},
   "source": [
    "Next, we instantiate a conditional MMD approach with a simple CNN feature extractor."
   ]
  },
  {
   "cell_type": "code",
   "execution_count": null,
   "metadata": {
    "is_executing": true,
    "ExecuteTime": {
     "start_time": "2023-11-16T14:32:09.187784606Z"
    }
   },
   "outputs": [],
   "source": [
    "feature_extractor = rul_adapt.model.CnnExtractor(14, [16, 32], 30, fc_units=64)\n",
    "regressor = rul_adapt.model.FullyConnectedHead(\n",
    "    64, [1], act_func_on_last_layer=False\n",
    ")\n",
    "\n",
    "approach = rul_adapt.approach.ConditionalMmdApproach(\n",
    "    lr=0.001,\n",
    "    mmd_factor=1.0,\n",
    "    num_mmd_kernels=5,\n",
    "    dynamic_adaptive_factor=0.5,\n",
    "    fuzzy_sets=fuzzy_sets\n",
    ")\n",
    "approach.set_model(feature_extractor, regressor)"
   ]
  },
  {
   "cell_type": "markdown",
   "metadata": {},
   "source": [
    "We train the approach for 10 epochs and evaluate it on the test split of FD001."
   ]
  },
  {
   "cell_type": "code",
   "execution_count": null,
   "metadata": {
    "is_executing": true
   },
   "outputs": [],
   "source": [
    "trainer = pl.Trainer(max_epochs=10)\n",
    "trainer.fit(approach, dm)\n",
    "trainer.test(approach, dm)"
   ]
  },
  {
   "cell_type": "markdown",
   "metadata": {},
   "source": [
    "We can also use the conditional DANN approach.\n",
    "This will use the same feature extractor and regressor as before and an additional domain discriminator.\n",
    "The discriminator network will be copied for each fuzzy set."
   ]
  },
  {
   "cell_type": "code",
   "execution_count": 11,
   "metadata": {
    "ExecuteTime": {
     "end_time": "2023-11-16T14:32:09.201331372Z",
     "start_time": "2023-11-16T14:32:09.187710053Z"
    }
   },
   "outputs": [],
   "source": [
    "feature_extractor = rul_adapt.model.CnnExtractor(14, [16, 32], 30, fc_units=64)\n",
    "regressor = rul_adapt.model.FullyConnectedHead(\n",
    "    64, [1], act_func_on_last_layer=False\n",
    ")\n",
    "domain_disc = rul_adapt.model.FullyConnectedHead(\n",
    "    64, [1], act_func_on_last_layer=False\n",
    ")\n",
    "\n",
    "approach = rul_adapt.approach.ConditionalDannApproach(\n",
    "    lr=0.001,\n",
    "    dann_factor=1.0,\n",
    "    dynamic_adaptive_factor=0.5,\n",
    "    fuzzy_sets=fuzzy_sets\n",
    ")\n",
    "approach.set_model(feature_extractor, regressor, domain_disc)"
   ]
  },
  {
   "cell_type": "markdown",
   "metadata": {},
   "source": [
    "Again, we will train for 10 epochs and evaluate on the test split of FD001."
   ]
  },
  {
   "cell_type": "code",
   "execution_count": 13,
   "metadata": {
    "ExecuteTime": {
     "end_time": "2023-11-16T14:34:02.648476135Z",
     "start_time": "2023-11-16T14:32:09.187818699Z"
    }
   },
   "outputs": [
    {
     "name": "stderr",
     "output_type": "stream",
     "text": [
      "GPU available: False, used: False\n",
      "TPU available: False, using: 0 TPU cores\n",
      "IPU available: False, using: 0 IPUs\n",
      "HPU available: False, using: 0 HPUs\n",
      "\n",
      "  | Name                 | Type                       | Params\n",
      "--------------------------------------------------------------------\n",
      "0 | train_source_loss    | MeanAbsoluteError          | 0     \n",
      "1 | mmd_loss             | MaximumMeanDiscrepancyLoss | 0     \n",
      "2 | conditional_mmd_loss | ConditionalAdaptionLoss    | 0     \n",
      "3 | evaluator            | AdaptionEvaluator          | 0     \n",
      "4 | _feature_extractor   | CnnExtractor               | 55.6 K\n",
      "5 | _regressor           | FullyConnectedHead         | 65    \n",
      "--------------------------------------------------------------------\n",
      "55.6 K    Trainable params\n",
      "0         Non-trainable params\n",
      "55.6 K    Total params\n",
      "0.223     Total estimated model params size (MB)\n"
     ]
    },
    {
     "data": {
      "text/plain": "Sanity Checking: 0it [00:00, ?it/s]",
      "application/vnd.jupyter.widget-view+json": {
       "version_major": 2,
       "version_minor": 0,
       "model_id": "d9cadf13705a49d5aba96ac16e3b2022"
      }
     },
     "metadata": {},
     "output_type": "display_data"
    },
    {
     "data": {
      "text/plain": "Training: 0it [00:00, ?it/s]",
      "application/vnd.jupyter.widget-view+json": {
       "version_major": 2,
       "version_minor": 0,
       "model_id": "1b1085bddff14c74a466e7844561d496"
      }
     },
     "metadata": {},
     "output_type": "display_data"
    },
    {
     "data": {
      "text/plain": "Validation: 0it [00:00, ?it/s]",
      "application/vnd.jupyter.widget-view+json": {
       "version_major": 2,
       "version_minor": 0,
       "model_id": "8abd7748f9984e33a628f18cfff60195"
      }
     },
     "metadata": {},
     "output_type": "display_data"
    },
    {
     "data": {
      "text/plain": "Validation: 0it [00:00, ?it/s]",
      "application/vnd.jupyter.widget-view+json": {
       "version_major": 2,
       "version_minor": 0,
       "model_id": "7e561112a01b4a62859fefe9bfa40e6f"
      }
     },
     "metadata": {},
     "output_type": "display_data"
    },
    {
     "data": {
      "text/plain": "Validation: 0it [00:00, ?it/s]",
      "application/vnd.jupyter.widget-view+json": {
       "version_major": 2,
       "version_minor": 0,
       "model_id": "2cf780f20c604278ab83c0f24c774c54"
      }
     },
     "metadata": {},
     "output_type": "display_data"
    },
    {
     "data": {
      "text/plain": "Validation: 0it [00:00, ?it/s]",
      "application/vnd.jupyter.widget-view+json": {
       "version_major": 2,
       "version_minor": 0,
       "model_id": "31f8f46043214f17a5127db2f794a182"
      }
     },
     "metadata": {},
     "output_type": "display_data"
    },
    {
     "data": {
      "text/plain": "Validation: 0it [00:00, ?it/s]",
      "application/vnd.jupyter.widget-view+json": {
       "version_major": 2,
       "version_minor": 0,
       "model_id": "fedb5e701a2d424bb5b07fb949250e15"
      }
     },
     "metadata": {},
     "output_type": "display_data"
    },
    {
     "data": {
      "text/plain": "Validation: 0it [00:00, ?it/s]",
      "application/vnd.jupyter.widget-view+json": {
       "version_major": 2,
       "version_minor": 0,
       "model_id": "295536539b2c4fe7b97d98f0aa5e6cd1"
      }
     },
     "metadata": {},
     "output_type": "display_data"
    },
    {
     "data": {
      "text/plain": "Validation: 0it [00:00, ?it/s]",
      "application/vnd.jupyter.widget-view+json": {
       "version_major": 2,
       "version_minor": 0,
       "model_id": "621da9816b4645fbaa15f990d4be5747"
      }
     },
     "metadata": {},
     "output_type": "display_data"
    },
    {
     "data": {
      "text/plain": "Validation: 0it [00:00, ?it/s]",
      "application/vnd.jupyter.widget-view+json": {
       "version_major": 2,
       "version_minor": 0,
       "model_id": "81cba211316844a389b5446635b98ff1"
      }
     },
     "metadata": {},
     "output_type": "display_data"
    },
    {
     "data": {
      "text/plain": "Validation: 0it [00:00, ?it/s]",
      "application/vnd.jupyter.widget-view+json": {
       "version_major": 2,
       "version_minor": 0,
       "model_id": "298e2183581b4c4e88b6eaa7a4ea70b6"
      }
     },
     "metadata": {},
     "output_type": "display_data"
    },
    {
     "data": {
      "text/plain": "Validation: 0it [00:00, ?it/s]",
      "application/vnd.jupyter.widget-view+json": {
       "version_major": 2,
       "version_minor": 0,
       "model_id": "d3f24001e68d4c54b4b870045d884cea"
      }
     },
     "metadata": {},
     "output_type": "display_data"
    },
    {
     "name": "stderr",
     "output_type": "stream",
     "text": [
      "`Trainer.fit` stopped: `max_epochs=10` reached.\n"
     ]
    },
    {
     "data": {
      "text/plain": "Testing: 0it [00:00, ?it/s]",
      "application/vnd.jupyter.widget-view+json": {
       "version_major": 2,
       "version_minor": 0,
       "model_id": "178be49f0e0a495dab303522e4bae1b2"
      }
     },
     "metadata": {},
     "output_type": "display_data"
    },
    {
     "name": "stdout",
     "output_type": "stream",
     "text": [
      "────────────────────────────────────────────────────────────────────────────────────────────────────────────────────────\n",
      "       Test metric             DataLoader 0             DataLoader 1\n",
      "────────────────────────────────────────────────────────────────────────────────────────────────────────────────────────\n",
      "    test/source/rmse         15.53573226928711\n",
      "    test/source/score        615.2120361328125\n",
      "    test/target/rmse                                 23.868637084960938\n",
      "    test/target/score                                 2933.725830078125\n",
      "────────────────────────────────────────────────────────────────────────────────────────────────────────────────────────\n"
     ]
    },
    {
     "data": {
      "text/plain": "[{'test/source/rmse/dataloader_idx_0': 15.53573226928711,\n  'test/source/score/dataloader_idx_0': 615.2120361328125},\n {'test/target/rmse/dataloader_idx_1': 23.868637084960938,\n  'test/target/score/dataloader_idx_1': 2933.725830078125}]"
     },
     "execution_count": 13,
     "metadata": {},
     "output_type": "execute_result"
    }
   ],
   "source": [
    "trainer = pl.Trainer(max_epochs=10)\n",
    "trainer.fit(approach, dm)\n",
    "trainer.test(approach, dm)"
   ]
  }
 ],
 "metadata": {
  "kernelspec": {
   "display_name": "Python 3 (ipykernel)",
   "language": "python",
   "name": "python3"
  },
  "language_info": {
   "codemirror_mode": {
    "name": "ipython",
    "version": 3
   },
   "file_extension": ".py",
   "mimetype": "text/x-python",
   "name": "python",
   "nbconvert_exporter": "python",
   "pygments_lexer": "ipython3",
   "version": "3.8.14"
  }
 },
 "nbformat": 4,
 "nbformat_minor": 1
}
