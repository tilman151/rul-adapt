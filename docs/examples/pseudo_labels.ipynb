{
 "cells": [
  {
   "cell_type": "markdown",
   "source": [
    "# Pseudo Label Approach"
   ],
   "metadata": {
    "collapsed": false
   }
  },
  {
   "cell_type": "code",
   "execution_count": 1,
   "metadata": {
    "collapsed": true,
    "ExecuteTime": {
     "end_time": "2023-11-16T14:36:26.511391215Z",
     "start_time": "2023-11-16T14:36:24.706528522Z"
    }
   },
   "outputs": [],
   "source": [
    "from itertools import chain\n",
    "\n",
    "import rul_adapt\n",
    "import rul_datasets\n",
    "import pytorch_lightning as pl\n",
    "import torch"
   ]
  },
  {
   "cell_type": "markdown",
   "source": [
    "The pseudo label approach works by training a supervised model on the source domain and then using the model to predict labels for the target domain.\n",
    "The target domain is then combined with the source domain and the model is retrained on the combined dataset.\n",
    "This process is repeated until the model converges.\n",
    "\n",
    "Here, we will train a model of FD003 of the CMAPSS dataset and pseudo label the FD001 dataset."
   ],
   "metadata": {
    "collapsed": false
   }
  },
  {
   "cell_type": "code",
   "execution_count": 2,
   "outputs": [],
   "source": [
    "feature_extractor = rul_adapt.model.CnnExtractor(\n",
    "    14, [32, 16, 8], 30, fc_units=64\n",
    ")\n",
    "regressor = rul_adapt.model.FullyConnectedHead(\n",
    "    64, [1], act_func_on_last_layer=False\n",
    ")"
   ],
   "metadata": {
    "collapsed": false,
    "ExecuteTime": {
     "end_time": "2023-11-16T14:36:26.521963774Z",
     "start_time": "2023-11-16T14:36:26.513592996Z"
    }
   }
  },
  {
   "cell_type": "markdown",
   "source": [
    "## Supervised Training\n",
    "\n",
    "First we set up a data module for FD003."
   ],
   "metadata": {
    "collapsed": false
   }
  },
  {
   "cell_type": "code",
   "execution_count": 3,
   "outputs": [],
   "source": [
    "fd3 = rul_datasets.CmapssReader(fd=3)\n",
    "dm_labeled = rul_datasets.RulDataModule(fd3, batch_size=128)"
   ],
   "metadata": {
    "collapsed": false,
    "ExecuteTime": {
     "end_time": "2023-11-16T14:36:26.522355626Z",
     "start_time": "2023-11-16T14:36:26.517892159Z"
    }
   }
  },
  {
   "cell_type": "markdown",
   "source": [
    "Then we set up a supervised approach and train it for 10 epochs.\n",
    "In practice, it should be trained until the validation loss stops decreasing."
   ],
   "metadata": {
    "collapsed": false
   }
  },
  {
   "cell_type": "code",
   "execution_count": 4,
   "outputs": [
    {
     "name": "stderr",
     "output_type": "stream",
     "text": [
      "GPU available: False, used: False\n",
      "TPU available: False, using: 0 TPU cores\n",
      "IPU available: False, using: 0 IPUs\n",
      "HPU available: False, using: 0 HPUs\n",
      "\n",
      "  | Name               | Type               | Params\n",
      "----------------------------------------------------------\n",
      "0 | train_loss         | MeanSquaredError   | 0     \n",
      "1 | val_loss           | MeanSquaredError   | 0     \n",
      "2 | test_loss          | MeanSquaredError   | 0     \n",
      "3 | evaluator          | AdaptionEvaluator  | 0     \n",
      "4 | _feature_extractor | CnnExtractor       | 15.7 K\n",
      "5 | _regressor         | FullyConnectedHead | 65    \n",
      "----------------------------------------------------------\n",
      "15.7 K    Trainable params\n",
      "0         Non-trainable params\n",
      "15.7 K    Total params\n",
      "0.063     Total estimated model params size (MB)\n"
     ]
    },
    {
     "data": {
      "text/plain": "Sanity Checking: 0it [00:00, ?it/s]",
      "application/vnd.jupyter.widget-view+json": {
       "version_major": 2,
       "version_minor": 0,
       "model_id": "22b7832a2bbe4f92a2e22e907e3345cc"
      }
     },
     "metadata": {},
     "output_type": "display_data"
    },
    {
     "data": {
      "text/plain": "Training: 0it [00:00, ?it/s]",
      "application/vnd.jupyter.widget-view+json": {
       "version_major": 2,
       "version_minor": 0,
       "model_id": "749f5c2de7804cef8828d982c962448b"
      }
     },
     "metadata": {},
     "output_type": "display_data"
    },
    {
     "data": {
      "text/plain": "Validation: 0it [00:00, ?it/s]",
      "application/vnd.jupyter.widget-view+json": {
       "version_major": 2,
       "version_minor": 0,
       "model_id": "d1f848fe14a142f6b73105c77d938cc7"
      }
     },
     "metadata": {},
     "output_type": "display_data"
    },
    {
     "data": {
      "text/plain": "Validation: 0it [00:00, ?it/s]",
      "application/vnd.jupyter.widget-view+json": {
       "version_major": 2,
       "version_minor": 0,
       "model_id": "9e20160b358d48519c040491f1df7aff"
      }
     },
     "metadata": {},
     "output_type": "display_data"
    },
    {
     "data": {
      "text/plain": "Validation: 0it [00:00, ?it/s]",
      "application/vnd.jupyter.widget-view+json": {
       "version_major": 2,
       "version_minor": 0,
       "model_id": "e08c50147a9244548b1b60b7c30e34e6"
      }
     },
     "metadata": {},
     "output_type": "display_data"
    },
    {
     "data": {
      "text/plain": "Validation: 0it [00:00, ?it/s]",
      "application/vnd.jupyter.widget-view+json": {
       "version_major": 2,
       "version_minor": 0,
       "model_id": "29429432a8a3409f90b205d0ca0a6fc9"
      }
     },
     "metadata": {},
     "output_type": "display_data"
    },
    {
     "data": {
      "text/plain": "Validation: 0it [00:00, ?it/s]",
      "application/vnd.jupyter.widget-view+json": {
       "version_major": 2,
       "version_minor": 0,
       "model_id": "4ee20c1d80594ce9b9d3af3e05755a75"
      }
     },
     "metadata": {},
     "output_type": "display_data"
    },
    {
     "data": {
      "text/plain": "Validation: 0it [00:00, ?it/s]",
      "application/vnd.jupyter.widget-view+json": {
       "version_major": 2,
       "version_minor": 0,
       "model_id": "65dbab630a8d4a1391b23b5bff055ef2"
      }
     },
     "metadata": {},
     "output_type": "display_data"
    },
    {
     "data": {
      "text/plain": "Validation: 0it [00:00, ?it/s]",
      "application/vnd.jupyter.widget-view+json": {
       "version_major": 2,
       "version_minor": 0,
       "model_id": "a09a712e2fd24bcc8dfe0705a29174e7"
      }
     },
     "metadata": {},
     "output_type": "display_data"
    },
    {
     "data": {
      "text/plain": "Validation: 0it [00:00, ?it/s]",
      "application/vnd.jupyter.widget-view+json": {
       "version_major": 2,
       "version_minor": 0,
       "model_id": "d0a3b020a73846bda3328416ed721f2b"
      }
     },
     "metadata": {},
     "output_type": "display_data"
    },
    {
     "data": {
      "text/plain": "Validation: 0it [00:00, ?it/s]",
      "application/vnd.jupyter.widget-view+json": {
       "version_major": 2,
       "version_minor": 0,
       "model_id": "7cdd2fbee7cb4f4fba46ee815ccba9c4"
      }
     },
     "metadata": {},
     "output_type": "display_data"
    },
    {
     "data": {
      "text/plain": "Validation: 0it [00:00, ?it/s]",
      "application/vnd.jupyter.widget-view+json": {
       "version_major": 2,
       "version_minor": 0,
       "model_id": "01f6018cc8774fc9b234c1154f6c07d7"
      }
     },
     "metadata": {},
     "output_type": "display_data"
    },
    {
     "name": "stderr",
     "output_type": "stream",
     "text": [
      "`Trainer.fit` stopped: `max_epochs=10` reached.\n"
     ]
    },
    {
     "data": {
      "text/plain": "Validation: 0it [00:00, ?it/s]",
      "application/vnd.jupyter.widget-view+json": {
       "version_major": 2,
       "version_minor": 0,
       "model_id": "cc07a6a749ac4d68a81e774ad81211df"
      }
     },
     "metadata": {},
     "output_type": "display_data"
    },
    {
     "name": "stdout",
     "output_type": "stream",
     "text": [
      "────────────────────────────────────────────────────────────────────────────────────────────────────────────────────────\n",
      "     Validate metric           DataLoader 0\n",
      "────────────────────────────────────────────────────────────────────────────────────────────────────────────────────────\n",
      "        val/loss            14.083422660827637\n",
      "────────────────────────────────────────────────────────────────────────────────────────────────────────────────────────\n"
     ]
    },
    {
     "data": {
      "text/plain": "[{'val/loss': 14.083422660827637}]"
     },
     "execution_count": 4,
     "metadata": {},
     "output_type": "execute_result"
    }
   ],
   "source": [
    "approach = rul_adapt.approach.SupervisedApproach(\n",
    "    lr=0.001, loss_type=\"rmse\", optim_type=\"adam\"\n",
    ")\n",
    "approach.set_model(feature_extractor, regressor)\n",
    "\n",
    "trainer = pl.Trainer(max_epochs=10)\n",
    "trainer.fit(approach, dm_labeled)\n",
    "trainer.validate(approach, dm_labeled)"
   ],
   "metadata": {
    "collapsed": false,
    "ExecuteTime": {
     "end_time": "2023-11-16T14:36:51.432571691Z",
     "start_time": "2023-11-16T14:36:26.521860071Z"
    }
   }
  },
  {
   "cell_type": "markdown",
   "source": [
    "## Pseudo Labeling\n",
    "\n",
    "Now we can use the trained model to generate labels for FD001.\n",
    "We truncate FD001 to 80% to simulate a target domain without failure data."
   ],
   "metadata": {
    "collapsed": false
   }
  },
  {
   "cell_type": "code",
   "execution_count": 5,
   "outputs": [],
   "source": [
    "fd1 = rul_datasets.CmapssReader(fd=1, percent_broken=0.8)\n",
    "dm_unlabeled = rul_datasets.RulDataModule(fd1, batch_size=128)"
   ],
   "metadata": {
    "collapsed": false,
    "ExecuteTime": {
     "end_time": "2023-11-16T14:36:51.432823457Z",
     "start_time": "2023-11-16T14:36:40.205666211Z"
    }
   }
  },
  {
   "cell_type": "markdown",
   "source": [
    "The pseudo label is generated for the last time step of each sequence.\n",
    "They may be implausible, e.g. less than zero, in the early iterations and need to be clipped.\n",
    "When patching the data module with the pseudo labels, a suitable RUL values for each sequence are created."
   ],
   "metadata": {
    "collapsed": false
   }
  },
  {
   "cell_type": "code",
   "execution_count": 6,
   "outputs": [
    {
     "name": "stderr",
     "output_type": "stream",
     "text": [
      "/home/tilman/Programming/rul-adapt/rul_adapt/approach/pseudo_labels.py:88: UserWarning: At least one of the generated pseudo labels is negative. Please consider clipping them to zero.\n",
      "  warnings.warn(\n"
     ]
    }
   ],
   "source": [
    "pseudo_labels = rul_adapt.approach.generate_pseudo_labels(dm_unlabeled, approach)\n",
    "pseudo_labels = [max(0, pl) for pl in pseudo_labels]\n",
    "rul_adapt.approach.patch_pseudo_labels(dm_unlabeled, pseudo_labels)"
   ],
   "metadata": {
    "collapsed": false,
    "ExecuteTime": {
     "end_time": "2023-11-16T14:36:51.433061082Z",
     "start_time": "2023-11-16T14:36:40.205851319Z"
    }
   }
  },
  {
   "cell_type": "markdown",
   "source": [
    "We create a new trainer and validate our pre-trained approach on FD001 to get a baseline."
   ],
   "metadata": {
    "collapsed": false
   }
  },
  {
   "cell_type": "code",
   "execution_count": 7,
   "outputs": [
    {
     "name": "stderr",
     "output_type": "stream",
     "text": [
      "GPU available: False, used: False\n",
      "TPU available: False, using: 0 TPU cores\n",
      "IPU available: False, using: 0 IPUs\n",
      "HPU available: False, using: 0 HPUs\n"
     ]
    },
    {
     "data": {
      "text/plain": "Validation: 0it [00:00, ?it/s]",
      "application/vnd.jupyter.widget-view+json": {
       "version_major": 2,
       "version_minor": 0,
       "model_id": "552e54991de14468b157a2f32bc4e188"
      }
     },
     "metadata": {},
     "output_type": "display_data"
    },
    {
     "name": "stdout",
     "output_type": "stream",
     "text": [
      "────────────────────────────────────────────────────────────────────────────────────────────────────────────────────────\n",
      "     Validate metric           DataLoader 0\n",
      "────────────────────────────────────────────────────────────────────────────────────────────────────────────────────────\n",
      "        val/loss            36.179779052734375\n",
      "────────────────────────────────────────────────────────────────────────────────────────────────────────────────────────\n"
     ]
    },
    {
     "data": {
      "text/plain": "[{'val/loss': 36.179779052734375}]"
     },
     "execution_count": 7,
     "metadata": {},
     "output_type": "execute_result"
    }
   ],
   "source": [
    "trainer = pl.Trainer(max_epochs=10)\n",
    "trainer.validate(approach, dm_unlabeled)"
   ],
   "metadata": {
    "collapsed": false,
    "ExecuteTime": {
     "end_time": "2023-11-16T14:36:51.433708088Z",
     "start_time": "2023-11-16T14:36:40.304730808Z"
    }
   }
  },
  {
   "cell_type": "markdown",
   "source": [
    "Afterward, we combine FD003 and the pseudo labeled FD001 and train the approach for another 10 epochs.\n",
    "We can observe that the validation loss decreased significantly.\n",
    "The pseudo labeling and training can now be repeated with the new model until the validation loss converges."
   ],
   "metadata": {
    "collapsed": false
   }
  },
  {
   "cell_type": "code",
   "execution_count": 8,
   "outputs": [
    {
     "name": "stderr",
     "output_type": "stream",
     "text": [
      "/home/tilman/Programming/rul-adapt/.venv/lib/python3.8/site-packages/pytorch_lightning/trainer/configuration_validator.py:108: PossibleUserWarning: You defined a `validation_step` but have no `val_dataloader`. Skipping val loop.\n",
      "  rank_zero_warn(\n",
      "\n",
      "  | Name               | Type               | Params\n",
      "----------------------------------------------------------\n",
      "0 | train_loss         | MeanSquaredError   | 0     \n",
      "1 | val_loss           | MeanSquaredError   | 0     \n",
      "2 | test_loss          | MeanSquaredError   | 0     \n",
      "3 | evaluator          | AdaptionEvaluator  | 0     \n",
      "4 | _feature_extractor | CnnExtractor       | 15.7 K\n",
      "5 | _regressor         | FullyConnectedHead | 65    \n",
      "----------------------------------------------------------\n",
      "15.7 K    Trainable params\n",
      "0         Non-trainable params\n",
      "15.7 K    Total params\n",
      "0.063     Total estimated model params size (MB)\n"
     ]
    },
    {
     "data": {
      "text/plain": "Training: 0it [00:00, ?it/s]",
      "application/vnd.jupyter.widget-view+json": {
       "version_major": 2,
       "version_minor": 0,
       "model_id": "3dac89e5c756476cb9254dbf495e940f"
      }
     },
     "metadata": {},
     "output_type": "display_data"
    },
    {
     "name": "stderr",
     "output_type": "stream",
     "text": [
      "`Trainer.fit` stopped: `max_epochs=10` reached.\n"
     ]
    },
    {
     "data": {
      "text/plain": "Validation: 0it [00:00, ?it/s]",
      "application/vnd.jupyter.widget-view+json": {
       "version_major": 2,
       "version_minor": 0,
       "model_id": "101a136892c547599e5389f1c2c67fd4"
      }
     },
     "metadata": {},
     "output_type": "display_data"
    },
    {
     "name": "stdout",
     "output_type": "stream",
     "text": [
      "────────────────────────────────────────────────────────────────────────────────────────────────────────────────────────\n",
      "     Validate metric           DataLoader 0\n",
      "────────────────────────────────────────────────────────────────────────────────────────────────────────────────────────\n",
      "        val/loss             29.42894172668457\n",
      "────────────────────────────────────────────────────────────────────────────────────────────────────────────────────────\n"
     ]
    },
    {
     "data": {
      "text/plain": "[{'val/loss': 29.42894172668457}]"
     },
     "execution_count": 8,
     "metadata": {},
     "output_type": "execute_result"
    }
   ],
   "source": [
    "combined_train_data = torch.utils.data.ConcatDataset(\n",
    "    [dm_labeled.to_dataset(\"dev\"), dm_unlabeled.to_dataset(\"dev\")]\n",
    ")\n",
    "combined_train_dl = torch.utils.data.DataLoader(\n",
    "    combined_train_data, batch_size=128, shuffle=True\n",
    ")\n",
    "trainer.fit(approach, train_dataloaders=combined_train_dl)\n",
    "trainer.validate(approach, dm_unlabeled)"
   ],
   "metadata": {
    "collapsed": false,
    "ExecuteTime": {
     "end_time": "2023-11-16T14:36:59.957379733Z",
     "start_time": "2023-11-16T14:36:40.557538125Z"
    }
   }
  }
 ],
 "metadata": {
  "kernelspec": {
   "display_name": "Python 3",
   "language": "python",
   "name": "python3"
  },
  "language_info": {
   "codemirror_mode": {
    "name": "ipython",
    "version": 2
   },
   "file_extension": ".py",
   "mimetype": "text/x-python",
   "name": "python",
   "nbconvert_exporter": "python",
   "pygments_lexer": "ipython2",
   "version": "2.7.6"
  }
 },
 "nbformat": 4,
 "nbformat_minor": 0
}
